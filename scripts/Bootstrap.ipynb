{
 "cells": [
  {
   "cell_type": "code",
   "execution_count": 1,
   "metadata": {},
   "outputs": [],
   "source": [
    "import os\n",
    "os.chdir('../')\n",
    "\n",
    "import sys\n",
    "sys.argv=['']\n",
    "del sys\n",
    "\n",
    "import argparse\n",
    "import json\n",
    "import matplotlib.pyplot as plt\n",
    "import numpy as np\n",
    "import optuna\n",
    "import pandas as pd\n",
    "import random\n",
    "import scipy\n",
    "\n",
    "from sklearn.preprocessing import StandardScaler\n",
    "from sksurv.util import Surv as skSurv\n",
    "from sksurv.metrics import concordance_index_ipcw, cumulative_dynamic_auc, brier_score, integrated_brier_score\n",
    "from sklearn_pandas import DataFrameMapper\n",
    "from sklearn.utils import resample\n",
    "from utils.param_search import *\n",
    "from utils.output_results import *"
   ]
  },
  {
   "cell_type": "markdown",
   "metadata": {},
   "source": [
    "The uncertainty measure used here is the Bootstrap method.\n",
    "\n",
    "2 real datasets can be used : \n",
    "- the LungCancerExplorer dataset is a set composed of multiple sources of data\n",
    "- the METABRIC cohort.\n",
    "\n",
    "We apply this method to different types of neural network models :\n",
    "- CoxCC, CoxTime\n",
    "- DeepHit"
   ]
  },
  {
   "cell_type": "code",
   "execution_count": 2,
   "metadata": {},
   "outputs": [],
   "source": [
    "parser = argparse.ArgumentParser()\n",
    "parser.add_argument('--dataset', '-dt', default='Metabric', type=str) #LungCancerExplorer, Metabric\n",
    "parser.add_argument('--name', '-n',type=str, default=\"CoxCC\")#CoxTime, DeepHit, CoxCC \n",
    "parser.add_argument('--plot_mode', '-pm', default=False, action='store_true')\n",
    "parser.add_argument('--timepoints', '-tp',type=str, default=\"fixed\") #fixed, percentiles\n",
    "parser.add_argument('--uncertainty', '-u',type=str, default=\"Bootstrap\") #Bootstrap, MCDropout, DeepEnsemble, VAE, BMask\n",
    "config = parser.parse_args()"
   ]
  },
  {
   "cell_type": "code",
   "execution_count": 3,
   "metadata": {},
   "outputs": [],
   "source": [
    "dir_res = 'results/'+ config.dataset + \"/\"+config.uncertainty+\"/\"+ config.name+'/'\n",
    "os.makedirs(dir_res, exist_ok=True)\n",
    "\n",
    "dir_data = \"data/\" + config.dataset + \"/\""
   ]
  },
  {
   "cell_type": "markdown",
   "metadata": {},
   "source": [
    "# Data Preprocessing"
   ]
  },
  {
   "cell_type": "markdown",
   "metadata": {},
   "source": [
    "Missing data are previously handled using the MICE package in R."
   ]
  },
  {
   "cell_type": "code",
   "execution_count": 4,
   "metadata": {},
   "outputs": [],
   "source": [
    "df = pd.read_csv(dir_data+\"DataImputed.csv\")\n",
    "df['id'] = df.index + 1"
   ]
  },
  {
   "cell_type": "markdown",
   "metadata": {},
   "source": [
    "We list the clinical variables and the genes variables according to the dataset considered."
   ]
  },
  {
   "cell_type": "code",
   "execution_count": 5,
   "metadata": {},
   "outputs": [],
   "source": [
    "if config.dataset == \"Metabric\":\n",
    "    ClinVar =['age',\n",
    "                   'chemotherapy',\n",
    "                   'grade1',\n",
    "                   'grade2',\n",
    "                   'hormonotherapy',\n",
    "                   'N',\n",
    "                   'tumor_size']\n",
    "    ColsLeave = ['chemotherapy',\n",
    "                  'grade1',\n",
    "                  'grade2',\n",
    "                  'id',\n",
    "                  'hormonotherapy',\n",
    "                  'N',\n",
    "                  'status',\n",
    "                  'yy']\n",
    "elif config.dataset == \"LungCancerExplorer\":\n",
    "    ClinVar = ['Pat_Age',\n",
    "                    'Pat_Stage_II',\n",
    "                    'Pat_Stage_III',\n",
    "                    'Pat_Stage_IV',\n",
    "                    'Pat_Stage_I_or_II']\n",
    "    ColsLeave = ['id',\n",
    "                  'Pat_Stage_II',\n",
    "                  'Pat_Stage_III',\n",
    "                  'Pat_Stage_IV',\n",
    "                  'Pat_Stage_I_or_II',\n",
    "                  'status',\n",
    "                  'yy']\n",
    "GenesVar = df.drop(columns = ClinVar + ['id','status','yy'],axis=1).columns.to_list()"
   ]
  },
  {
   "cell_type": "markdown",
   "metadata": {},
   "source": [
    "The 5 folds of the simple cross-validation are defined and saved beforehand in order to always have the same folds between the different methods."
   ]
  },
  {
   "cell_type": "code",
   "execution_count": 6,
   "metadata": {},
   "outputs": [],
   "source": [
    "with open(dir_data+\"folds_1CV.json\") as f:\n",
    "    kfolds = json.load(f)"
   ]
  },
  {
   "cell_type": "code",
   "execution_count": 7,
   "metadata": {},
   "outputs": [],
   "source": [
    "df_train = df[ClinVar+GenesVar+['yy','status','id']].loc[kfolds['train']] \n",
    "df_test = df[ClinVar+GenesVar+['yy','status','id']].loc[kfolds['test']] \n",
    "AllVar = ClinVar+GenesVar\n",
    "df_train.reset_index(drop=True,inplace=True)\n",
    "df_test.reset_index(drop=True,inplace=True)"
   ]
  },
  {
   "cell_type": "markdown",
   "metadata": {},
   "source": [
    "The continuous variable are standardized. The yy variable corresponds to the survival time, the status is the censoring indicator (a value of 0 corresponds to censoring) and the id variable is the id of the patient."
   ]
  },
  {
   "cell_type": "code",
   "execution_count": 8,
   "metadata": {},
   "outputs": [],
   "source": [
    "ColsStandardize = [col for col in AllVar if col not in ColsLeave] \n",
    "standardize = [([col], StandardScaler()) for col in ColsStandardize]\n",
    "leave = [(col, None) for col in ColsLeave]\n",
    "df_mapper = DataFrameMapper(standardize + leave, df_out=True)"
   ]
  },
  {
   "cell_type": "markdown",
   "metadata": {},
   "source": [
    "# Hyperparmater Search"
   ]
  },
  {
   "cell_type": "markdown",
   "metadata": {},
   "source": [
    "A simple 5-folds cross validation is implemented using the training set to determine the hyperparameters of the neural network models. The optuna package is used to perform the hyperparmeter search. The hyperparameter that are searched are the following:\n",
    "\n",
    "| Hyperparameter | Values |\n",
    "|----------|--------------|\n",
    "| Activation function |  {tanh, relu} |\n",
    "| Batch size |  {8,16,32,64,128} |\n",
    "| Dropout rate |  [0.0,0.3] | \n",
    "|Layers | {1,2,3,4}|\n",
    "|Learning rate|[1e-3, 1e-2]|\n",
    "|Neurons|[4,128]|\n",
    "|Optimizer|{adam, adam_amsgrad, RMSProp, SGDWR}|\n",
    "|Pénalisation L2|[0,0.1]|\n",
    "|Alpha (DeepHit)|[0,1]|\n",
    "|Sigma(DeepHit)|{0.1,0.25,0.5,1,2.5,5,10,100}|\n",
    "|Durations(DeepHit)|{10,50,100,200,400}|"
   ]
  },
  {
   "cell_type": "code",
   "execution_count": 9,
   "metadata": {
    "collapsed": true,
    "jupyter": {
     "outputs_hidden": true
    },
    "tags": []
   },
   "outputs": [
    {
     "name": "stderr",
     "output_type": "stream",
     "text": [
      "\u001b[32m[I 2022-02-01 09:06:58,155]\u001b[0m A new study created in RDB with name: CoxCC\u001b[0m\n",
      "\u001b[32m[I 2022-02-01 09:07:14,243]\u001b[0m Trial 0 finished with value: 0.6590514779090881 and parameters: {'activation': 'tanh', 'batch_size': 16, 'n_layers': 3, 'learning_rate': 0.00653255135745827, 'neurons': 40, 'optimizer': 'sgdwr', 'l2': 0.04091772887367218, 'dropout': 0.1542920126555493}. Best is trial 0 with value: 0.6590514779090881.\u001b[0m\n",
      "\u001b[32m[I 2022-02-01 09:07:32,184]\u001b[0m Trial 1 finished with value: 0.6661632180213928 and parameters: {'activation': 'relu', 'batch_size': 16, 'n_layers': 2, 'learning_rate': 0.0042373451115394565, 'neurons': 111, 'optimizer': 'adam', 'l2': 0.08374808151123903, 'dropout': 0.03792369845770791}. Best is trial 0 with value: 0.6590514779090881.\u001b[0m\n",
      "\u001b[32m[I 2022-02-01 09:07:48,607]\u001b[0m Trial 2 finished with value: 0.6736472547054291 and parameters: {'activation': 'relu', 'batch_size': 128, 'n_layers': 4, 'learning_rate': 0.006093001109692801, 'neurons': 28, 'optimizer': 'sgdwr', 'l2': 0.08320132151345892, 'dropout': 0.2893999478406216}. Best is trial 0 with value: 0.6590514779090881.\u001b[0m\n",
      "\u001b[32m[I 2022-02-01 09:08:04,814]\u001b[0m Trial 3 finished with value: 0.6744518478711446 and parameters: {'activation': 'tanh', 'batch_size': 64, 'n_layers': 4, 'learning_rate': 0.005738765781303247, 'neurons': 5, 'optimizer': 'rmsprop', 'l2': 0.052661746583519534, 'dropout': 0.2502889442423037}. Best is trial 0 with value: 0.6590514779090881.\u001b[0m\n",
      "\u001b[32m[I 2022-02-01 09:08:45,081]\u001b[0m Trial 4 finished with value: 0.6742149591445923 and parameters: {'activation': 'tanh', 'batch_size': 8, 'n_layers': 4, 'learning_rate': 0.005420446692840209, 'neurons': 106, 'optimizer': 'rmsprop', 'l2': 0.01124285019205521, 'dropout': 0.08762469585969367}. Best is trial 0 with value: 0.6590514779090881.\u001b[0m\n",
      "\u001b[32m[I 2022-02-01 09:08:58,013]\u001b[0m Trial 5 finished with value: 0.6501335024833679 and parameters: {'activation': 'tanh', 'batch_size': 16, 'n_layers': 1, 'learning_rate': 0.004904178149803604, 'neurons': 10, 'optimizer': 'sgdwr', 'l2': 0.029994995913064815, 'dropout': 0.09836909822849799}. Best is trial 5 with value: 0.6501335024833679.\u001b[0m\n",
      "\u001b[32m[I 2022-02-01 09:09:08,999]\u001b[0m Trial 6 finished with value: 0.6572862863540649 and parameters: {'activation': 'tanh', 'batch_size': 64, 'n_layers': 1, 'learning_rate': 0.005488425140580879, 'neurons': 123, 'optimizer': 'adam_amsgrad', 'l2': 0.025219241629608525, 'dropout': 0.20037781350867132}. Best is trial 5 with value: 0.6501335024833679.\u001b[0m\n",
      "\u001b[32m[I 2022-02-01 09:09:22,281]\u001b[0m Trial 7 finished with value: 0.676472795009613 and parameters: {'activation': 'relu', 'batch_size': 32, 'n_layers': 4, 'learning_rate': 0.007415104449346025, 'neurons': 58, 'optimizer': 'sgdwr', 'l2': 0.043646345659085234, 'dropout': 0.014149292517001354}. Best is trial 5 with value: 0.6501335024833679.\u001b[0m\n",
      "\u001b[32m[I 2022-02-01 09:09:34,030]\u001b[0m Trial 8 finished with value: 0.6497949600219727 and parameters: {'activation': 'relu', 'batch_size': 64, 'n_layers': 2, 'learning_rate': 0.0037994573157314943, 'neurons': 38, 'optimizer': 'adam_amsgrad', 'l2': 0.03761433356651737, 'dropout': 0.24897928269763325}. Best is trial 8 with value: 0.6497949600219727.\u001b[0m\n",
      "\u001b[32m[I 2022-02-01 09:09:44,405]\u001b[0m Trial 9 finished with value: 0.6500047445297241 and parameters: {'activation': 'relu', 'batch_size': 128, 'n_layers': 2, 'learning_rate': 0.00653569534802872, 'neurons': 5, 'optimizer': 'adam_amsgrad', 'l2': 0.00512827762485526, 'dropout': 0.14001783832990966}. Best is trial 8 with value: 0.6497949600219727.\u001b[0m\n",
      "\u001b[32m[I 2022-02-01 09:09:59,752]\u001b[0m Trial 10 finished with value: 0.6463136196136474 and parameters: {'activation': 'relu', 'batch_size': 64, 'n_layers': 3, 'learning_rate': 0.001869917272244573, 'neurons': 83, 'optimizer': 'adam_amsgrad', 'l2': 0.06543731422807197, 'dropout': 0.23086044314798154}. Best is trial 10 with value: 0.6463136196136474.\u001b[0m\n",
      "\u001b[32m[I 2022-02-01 09:10:16,293]\u001b[0m Trial 11 finished with value: 0.6606912970542907 and parameters: {'activation': 'relu', 'batch_size': 64, 'n_layers': 3, 'learning_rate': 0.0015245543308329869, 'neurons': 77, 'optimizer': 'adam_amsgrad', 'l2': 0.06433712934154467, 'dropout': 0.22135598948484997}. Best is trial 10 with value: 0.6463136196136474.\u001b[0m\n",
      "\u001b[32m[I 2022-02-01 09:10:29,702]\u001b[0m Trial 12 finished with value: 0.6528186798095703 and parameters: {'activation': 'relu', 'batch_size': 64, 'n_layers': 2, 'learning_rate': 0.0024108847173332413, 'neurons': 78, 'optimizer': 'adam_amsgrad', 'l2': 0.0701973761061849, 'dropout': 0.29543783461973905}. Best is trial 10 with value: 0.6463136196136474.\u001b[0m\n",
      "\u001b[32m[I 2022-02-01 09:10:43,879]\u001b[0m Trial 13 finished with value: 0.6318694651126862 and parameters: {'activation': 'relu', 'batch_size': 64, 'n_layers': 3, 'learning_rate': 0.003280535360375872, 'neurons': 56, 'optimizer': 'adam_amsgrad', 'l2': 0.06324272974146021, 'dropout': 0.23630139864327712}. Best is trial 13 with value: 0.6318694651126862.\u001b[0m\n",
      "\u001b[32m[I 2022-02-01 09:10:58,339]\u001b[0m Trial 14 finished with value: 0.6721132278442383 and parameters: {'activation': 'relu', 'batch_size': 32, 'n_layers': 3, 'learning_rate': 0.009561867752548844, 'neurons': 62, 'optimizer': 'adam', 'l2': 0.09706294203293836, 'dropout': 0.19269951236074387}. Best is trial 13 with value: 0.6318694651126862.\u001b[0m\n",
      "\u001b[32m[I 2022-02-01 09:11:24,502]\u001b[0m Trial 15 finished with value: 0.6619486570358276 and parameters: {'activation': 'relu', 'batch_size': 8, 'n_layers': 3, 'learning_rate': 0.002742105184289516, 'neurons': 92, 'optimizer': 'adam_amsgrad', 'l2': 0.057769715847468504, 'dropout': 0.16476843520659262}. Best is trial 13 with value: 0.6318694651126862.\u001b[0m\n",
      "\u001b[32m[I 2022-02-01 09:11:41,873]\u001b[0m Trial 16 finished with value: 0.6450790762901306 and parameters: {'activation': 'relu', 'batch_size': 64, 'n_layers': 3, 'learning_rate': 0.001436704480879495, 'neurons': 52, 'optimizer': 'adam_amsgrad', 'l2': 0.07644393583749967, 'dropout': 0.2497744876692962}. Best is trial 13 with value: 0.6318694651126862.\u001b[0m\n",
      "\u001b[32m[I 2022-02-01 09:11:57,617]\u001b[0m Trial 17 finished with value: 0.6167109608650208 and parameters: {'activation': 'relu', 'batch_size': 64, 'n_layers': 3, 'learning_rate': 0.001004448683789715, 'neurons': 50, 'optimizer': 'adam_amsgrad', 'l2': 0.0794502101251446, 'dropout': 0.2687963113871135}. Best is trial 17 with value: 0.6167109608650208.\u001b[0m\n",
      "\u001b[32m[I 2022-02-01 09:12:11,296]\u001b[0m Trial 18 finished with value: 0.6562019189198812 and parameters: {'activation': 'relu', 'batch_size': 64, 'n_layers': 2, 'learning_rate': 0.0032482675443198015, 'neurons': 30, 'optimizer': 'rmsprop', 'l2': 0.09571042259623737, 'dropout': 0.2751454624296669}. Best is trial 17 with value: 0.6167109608650208.\u001b[0m\n",
      "\u001b[32m[I 2022-02-01 09:12:30,769]\u001b[0m Trial 19 finished with value: 0.6412965059280396 and parameters: {'activation': 'relu', 'batch_size': 128, 'n_layers': 4, 'learning_rate': 0.001061774930913258, 'neurons': 47, 'optimizer': 'adam', 'l2': 0.08820429348633131, 'dropout': 0.2015958544856452}. Best is trial 17 with value: 0.6167109608650208.\u001b[0m\n",
      "\u001b[32m[I 2022-02-01 09:12:52,446]\u001b[0m Trial 20 finished with value: 0.6532687902450561 and parameters: {'activation': 'relu', 'batch_size': 32, 'n_layers': 3, 'learning_rate': 0.0026314644741586876, 'neurons': 70, 'optimizer': 'adam_amsgrad', 'l2': 0.07751143122452836, 'dropout': 0.27180856647860396}. Best is trial 17 with value: 0.6167109608650208.\u001b[0m\n",
      "\u001b[32m[I 2022-02-01 09:13:13,135]\u001b[0m Trial 21 finished with value: 0.6461340039968491 and parameters: {'activation': 'relu', 'batch_size': 128, 'n_layers': 4, 'learning_rate': 0.0010764016544195611, 'neurons': 49, 'optimizer': 'adam', 'l2': 0.09109292963228914, 'dropout': 0.19687338847889727}. Best is trial 17 with value: 0.6167109608650208.\u001b[0m\n",
      "\u001b[32m[I 2022-02-01 09:13:31,451]\u001b[0m Trial 22 finished with value: 0.6604761332273483 and parameters: {'activation': 'relu', 'batch_size': 128, 'n_layers': 4, 'learning_rate': 0.0019397095217831865, 'neurons': 22, 'optimizer': 'adam', 'l2': 0.08566962348895818, 'dropout': 0.22571730850442168}. Best is trial 17 with value: 0.6167109608650208.\u001b[0m\n",
      "\u001b[32m[I 2022-02-01 09:13:47,164]\u001b[0m Trial 23 finished with value: 0.6532762348651886 and parameters: {'activation': 'relu', 'batch_size': 128, 'n_layers': 3, 'learning_rate': 0.0035513009137065218, 'neurons': 43, 'optimizer': 'adam', 'l2': 0.07366609624561306, 'dropout': 0.19545617907351442}. Best is trial 17 with value: 0.6167109608650208.\u001b[0m\n",
      "\u001b[32m[I 2022-02-01 09:14:32,676]\u001b[0m Trial 24 finished with value: 0.632989227771759 and parameters: {'activation': 'relu', 'batch_size': 8, 'n_layers': 4, 'learning_rate': 0.0010071671766621658, 'neurons': 65, 'optimizer': 'adam', 'l2': 0.06032979129161746, 'dropout': 0.1256809198947635}. Best is trial 17 with value: 0.6167109608650208.\u001b[0m\n",
      "\u001b[32m[I 2022-02-01 09:15:08,246]\u001b[0m Trial 25 finished with value: 0.6607068181037903 and parameters: {'activation': 'relu', 'batch_size': 8, 'n_layers': 3, 'learning_rate': 0.002273749611494697, 'neurons': 68, 'optimizer': 'adam_amsgrad', 'l2': 0.05871424715002252, 'dropout': 0.11718308844570553}. Best is trial 17 with value: 0.6167109608650208.\u001b[0m\n",
      "\u001b[32m[I 2022-02-01 09:15:40,326]\u001b[0m Trial 26 finished with value: 0.6740458250045777 and parameters: {'activation': 'tanh', 'batch_size': 8, 'n_layers': 4, 'learning_rate': 0.004480196816947136, 'neurons': 88, 'optimizer': 'adam', 'l2': 0.04652007611429232, 'dropout': 0.1711326977677584}. Best is trial 17 with value: 0.6167109608650208.\u001b[0m\n",
      "\u001b[32m[I 2022-02-01 09:16:27,621]\u001b[0m Trial 27 finished with value: 0.6565822064876556 and parameters: {'activation': 'relu', 'batch_size': 8, 'n_layers': 3, 'learning_rate': 0.002888214622810275, 'neurons': 56, 'optimizer': 'rmsprop', 'l2': 0.05710971195542424, 'dropout': 0.07423365704547408}. Best is trial 17 with value: 0.6167109608650208.\u001b[0m\n",
      "\u001b[32m[I 2022-02-01 09:16:52,093]\u001b[0m Trial 28 finished with value: 0.6822453141212463 and parameters: {'activation': 'relu', 'batch_size': 8, 'n_layers': 2, 'learning_rate': 0.008661628433387341, 'neurons': 66, 'optimizer': 'adam_amsgrad', 'l2': 0.06571270878679579, 'dropout': 0.111460170188764}. Best is trial 17 with value: 0.6167109608650208.\u001b[0m\n",
      "\u001b[32m[I 2022-02-01 09:17:13,751]\u001b[0m Trial 29 finished with value: 0.649539589881897 and parameters: {'activation': 'tanh', 'batch_size': 16, 'n_layers': 3, 'learning_rate': 0.0032588037436687136, 'neurons': 37, 'optimizer': 'sgdwr', 'l2': 0.035909052729605845, 'dropout': 0.13287801168968474}. Best is trial 17 with value: 0.6167109608650208.\u001b[0m\n",
      "\u001b[32m[I 2022-02-01 09:17:29,213]\u001b[0m Trial 30 finished with value: 0.6733397960662841 and parameters: {'activation': 'relu', 'batch_size': 64, 'n_layers': 4, 'learning_rate': 0.0017316373071508415, 'neurons': 96, 'optimizer': 'adam', 'l2': 0.04834569740820037, 'dropout': 0.06322599125267193}. Best is trial 17 with value: 0.6167109608650208.\u001b[0m\n",
      "\u001b[32m[I 2022-02-01 09:17:47,420]\u001b[0m Trial 31 finished with value: 0.661403700709343 and parameters: {'activation': 'relu', 'batch_size': 128, 'n_layers': 4, 'learning_rate': 0.0012293506589043472, 'neurons': 41, 'optimizer': 'adam', 'l2': 0.08996584447735632, 'dropout': 0.17558002065937384}. Best is trial 17 with value: 0.6167109608650208.\u001b[0m\n",
      "\u001b[32m[I 2022-02-01 09:18:19,909]\u001b[0m Trial 32 finished with value: 0.651074743270874 and parameters: {'activation': 'relu', 'batch_size': 16, 'n_layers': 4, 'learning_rate': 0.002018686356051076, 'neurons': 47, 'optimizer': 'adam', 'l2': 0.07947595144950549, 'dropout': 0.26844767248119633}. Best is trial 17 with value: 0.6167109608650208.\u001b[0m\n",
      "\u001b[32m[I 2022-02-01 09:18:38,625]\u001b[0m Trial 33 finished with value: 0.6605787992477417 and parameters: {'activation': 'relu', 'batch_size': 128, 'n_layers': 4, 'learning_rate': 0.001063286430813985, 'neurons': 73, 'optimizer': 'adam', 'l2': 0.06882696692575885, 'dropout': 0.21514518980306477}. Best is trial 17 with value: 0.6167109608650208.\u001b[0m\n",
      "\u001b[32m[I 2022-02-01 09:18:57,119]\u001b[0m Trial 34 finished with value: 0.654797375202179 and parameters: {'activation': 'relu', 'batch_size': 64, 'n_layers': 4, 'learning_rate': 0.004275869620036436, 'neurons': 59, 'optimizer': 'adam', 'l2': 0.07998709777423678, 'dropout': 0.15077302960296085}. Best is trial 17 with value: 0.6167109608650208.\u001b[0m\n",
      "\u001b[32m[I 2022-02-01 09:19:30,107]\u001b[0m Trial 35 finished with value: 0.6447465121746063 and parameters: {'activation': 'relu', 'batch_size': 8, 'n_layers': 3, 'learning_rate': 0.0015990032666047824, 'neurons': 30, 'optimizer': 'adam', 'l2': 0.08672169089292203, 'dropout': 0.24635554188548686}. Best is trial 17 with value: 0.6167109608650208.\u001b[0m\n",
      "\u001b[32m[I 2022-02-01 09:19:47,907]\u001b[0m Trial 36 finished with value: 0.6576884388923645 and parameters: {'activation': 'tanh', 'batch_size': 64, 'n_layers': 4, 'learning_rate': 0.002321083958275756, 'neurons': 16, 'optimizer': 'rmsprop', 'l2': 0.05197086028830325, 'dropout': 0.2795811332059324}. Best is trial 17 with value: 0.6167109608650208.\u001b[0m\n",
      "\u001b[32m[I 2022-02-01 09:20:19,073]\u001b[0m Trial 37 finished with value: 0.6755606134732565 and parameters: {'activation': 'relu', 'batch_size': 16, 'n_layers': 4, 'learning_rate': 0.001067151669442934, 'neurons': 52, 'optimizer': 'sgdwr', 'l2': 0.06104049363048975, 'dropout': 0.2377384949292351}. Best is trial 17 with value: 0.6167109608650208.\u001b[0m\n",
      "\u001b[32m[I 2022-02-01 09:20:35,307]\u001b[0m Trial 38 finished with value: 0.6494769811630249 and parameters: {'activation': 'tanh', 'batch_size': 32, 'n_layers': 1, 'learning_rate': 0.004868106893934628, 'neurons': 65, 'optimizer': 'adam_amsgrad', 'l2': 0.07239323617411002, 'dropout': 0.2165632640938892}. Best is trial 17 with value: 0.6167109608650208.\u001b[0m\n",
      "\u001b[32m[I 2022-02-01 09:20:51,351]\u001b[0m Trial 39 finished with value: 0.6454983234405518 and parameters: {'activation': 'relu', 'batch_size': 128, 'n_layers': 3, 'learning_rate': 0.0038553031389943785, 'neurons': 35, 'optimizer': 'adam', 'l2': 0.08258872658688957, 'dropout': 0.29897813208727364}. Best is trial 17 with value: 0.6167109608650208.\u001b[0m\n",
      "\u001b[32m[I 2022-02-01 09:21:07,054]\u001b[0m Trial 40 finished with value: 0.6713379263877869 and parameters: {'activation': 'relu', 'batch_size': 64, 'n_layers': 4, 'learning_rate': 0.0066086993271691034, 'neurons': 46, 'optimizer': 'sgdwr', 'l2': 0.01752628089814825, 'dropout': 0.17850235169768547}. Best is trial 17 with value: 0.6167109608650208.\u001b[0m\n",
      "\u001b[32m[I 2022-02-01 09:21:43,558]\u001b[0m Trial 41 finished with value: 0.6474352777004242 and parameters: {'activation': 'relu', 'batch_size': 8, 'n_layers': 3, 'learning_rate': 0.0016007750304197195, 'neurons': 28, 'optimizer': 'adam', 'l2': 0.08707197609904277, 'dropout': 0.2534420894825712}. Best is trial 17 with value: 0.6167109608650208.\u001b[0m\n",
      "\u001b[32m[I 2022-02-01 09:22:17,283]\u001b[0m Trial 42 finished with value: 0.6642350912094116 and parameters: {'activation': 'relu', 'batch_size': 8, 'n_layers': 3, 'learning_rate': 0.0019587904523183366, 'neurons': 19, 'optimizer': 'adam', 'l2': 0.09977626717876723, 'dropout': 0.2593732557669682}. Best is trial 17 with value: 0.6167109608650208.\u001b[0m\n",
      "\u001b[32m[I 2022-02-01 09:22:44,099]\u001b[0m Trial 43 finished with value: 0.6650891900062561 and parameters: {'activation': 'relu', 'batch_size': 8, 'n_layers': 3, 'learning_rate': 0.003014942773682558, 'neurons': 30, 'optimizer': 'adam', 'l2': 0.0932381284604928, 'dropout': 0.2384020251293663}. Best is trial 17 with value: 0.6167109608650208.\u001b[0m\n",
      "\u001b[32m[I 2022-02-01 09:23:22,000]\u001b[0m Trial 44 finished with value: 0.6442330479621887 and parameters: {'activation': 'relu', 'batch_size': 8, 'n_layers': 2, 'learning_rate': 0.001540020743527568, 'neurons': 54, 'optimizer': 'adam_amsgrad', 'l2': 0.08542855059658419, 'dropout': 0.1329814924511014}. Best is trial 17 with value: 0.6167109608650208.\u001b[0m\n",
      "\u001b[32m[I 2022-02-01 09:23:51,484]\u001b[0m Trial 45 finished with value: 0.6538141965866089 and parameters: {'activation': 'relu', 'batch_size': 8, 'n_layers': 2, 'learning_rate': 0.0021964600118262313, 'neurons': 58, 'optimizer': 'adam_amsgrad', 'l2': 0.07398050182036181, 'dropout': 0.12955764766871}. Best is trial 17 with value: 0.6167109608650208.\u001b[0m\n",
      "\u001b[32m[I 2022-02-01 09:24:04,477]\u001b[0m Trial 46 finished with value: 0.6557763934135437 and parameters: {'activation': 'tanh', 'batch_size': 64, 'n_layers': 2, 'learning_rate': 0.001413401169421217, 'neurons': 53, 'optimizer': 'adam_amsgrad', 'l2': 0.05364717365933831, 'dropout': 0.09403177223348413}. Best is trial 17 with value: 0.6167109608650208.\u001b[0m\n",
      "\u001b[32m[I 2022-02-01 09:24:19,673]\u001b[0m Trial 47 finished with value: 0.6610612750053406 and parameters: {'activation': 'relu', 'batch_size': 64, 'n_layers': 1, 'learning_rate': 0.002555742946447231, 'neurons': 77, 'optimizer': 'adam_amsgrad', 'l2': 0.08272006599501207, 'dropout': 0.15721622299596558}. Best is trial 17 with value: 0.6167109608650208.\u001b[0m\n",
      "\u001b[32m[I 2022-02-01 09:24:45,469]\u001b[0m Trial 48 finished with value: 0.676414942741394 and parameters: {'activation': 'relu', 'batch_size': 8, 'n_layers': 2, 'learning_rate': 0.005945587900808684, 'neurons': 124, 'optimizer': 'adam_amsgrad', 'l2': 0.0687049048323342, 'dropout': 0.10855970792832505}. Best is trial 17 with value: 0.6167109608650208.\u001b[0m\n",
      "\u001b[32m[I 2022-02-01 09:25:00,275]\u001b[0m Trial 49 finished with value: 0.6537439107894898 and parameters: {'activation': 'relu', 'batch_size': 32, 'n_layers': 2, 'learning_rate': 0.0015659298849061676, 'neurons': 63, 'optimizer': 'adam_amsgrad', 'l2': 0.06497454827711571, 'dropout': 0.21127713261044542}. Best is trial 17 with value: 0.6167109608650208.\u001b[0m\n",
      "\u001b[32m[I 2022-02-01 09:25:14,297]\u001b[0m Trial 50 finished with value: 0.6533974856138229 and parameters: {'activation': 'relu', 'batch_size': 128, 'n_layers': 2, 'learning_rate': 0.001017405789205064, 'neurons': 43, 'optimizer': 'adam_amsgrad', 'l2': 0.09059350927714643, 'dropout': 0.14123721709686904}. Best is trial 17 with value: 0.6167109608650208.\u001b[0m\n",
      "\u001b[32m[I 2022-02-01 09:25:43,554]\u001b[0m Trial 51 finished with value: 0.6600231647491455 and parameters: {'activation': 'relu', 'batch_size': 8, 'n_layers': 3, 'learning_rate': 0.0016934020464286943, 'neurons': 33, 'optimizer': 'rmsprop', 'l2': 0.08701239384708823, 'dropout': 0.28348206689251076}. Best is trial 17 with value: 0.6167109608650208.\u001b[0m\n",
      "\u001b[32m[I 2022-02-01 09:26:16,311]\u001b[0m Trial 52 finished with value: 0.6499750216801962 and parameters: {'activation': 'relu', 'batch_size': 8, 'n_layers': 3, 'learning_rate': 0.001332701459690012, 'neurons': 24, 'optimizer': 'adam', 'l2': 0.09406327491070482, 'dropout': 0.26094591660771815}. Best is trial 17 with value: 0.6167109608650208.\u001b[0m\n",
      "\u001b[32m[I 2022-02-01 09:26:49,904]\u001b[0m Trial 53 finished with value: 0.6563973903656006 and parameters: {'activation': 'relu', 'batch_size': 8, 'n_layers': 3, 'learning_rate': 0.0019687606513012507, 'neurons': 51, 'optimizer': 'adam_amsgrad', 'l2': 0.07671954012914843, 'dropout': 0.24180102009980284}. Best is trial 17 with value: 0.6167109608650208.\u001b[0m\n",
      "\u001b[32m[I 2022-02-01 09:27:26,054]\u001b[0m Trial 54 finished with value: 0.6536322236061096 and parameters: {'activation': 'relu', 'batch_size': 8, 'n_layers': 2, 'learning_rate': 0.0024574708835910786, 'neurons': 60, 'optimizer': 'adam', 'l2': 0.08218240307748209, 'dropout': 0.18442205965523673}. Best is trial 17 with value: 0.6167109608650208.\u001b[0m\n",
      "\u001b[32m[I 2022-02-01 09:27:46,176]\u001b[0m Trial 55 finished with value: 0.6501311808824539 and parameters: {'activation': 'relu', 'batch_size': 64, 'n_layers': 3, 'learning_rate': 0.0014866621615230785, 'neurons': 13, 'optimizer': 'adam_amsgrad', 'l2': 0.09958439717353232, 'dropout': 0.20450902806629742}. Best is trial 17 with value: 0.6167109608650208.\u001b[0m\n",
      "\u001b[32m[I 2022-02-01 09:28:27,247]\u001b[0m Trial 56 finished with value: 0.6360392272472382 and parameters: {'activation': 'relu', 'batch_size': 8, 'n_layers': 4, 'learning_rate': 0.0031090533874022514, 'neurons': 45, 'optimizer': 'sgdwr', 'l2': 0.06256640401270701, 'dropout': 0.22858317510708365}. Best is trial 17 with value: 0.6167109608650208.\u001b[0m\n",
      "\u001b[32m[I 2022-02-01 09:28:44,537]\u001b[0m Trial 57 finished with value: 0.7003183126449585 and parameters: {'activation': 'relu', 'batch_size': 128, 'n_layers': 4, 'learning_rate': 0.003619280889723726, 'neurons': 72, 'optimizer': 'sgdwr', 'l2': 0.06171430036086752, 'dropout': 0.22786503699988617}. Best is trial 17 with value: 0.6167109608650208.\u001b[0m\n",
      "\u001b[32m[I 2022-02-01 09:28:59,885]\u001b[0m Trial 58 finished with value: 0.665838623046875 and parameters: {'activation': 'tanh', 'batch_size': 64, 'n_layers': 4, 'learning_rate': 0.004996095833840063, 'neurons': 55, 'optimizer': 'sgdwr', 'l2': 0.04189802576686308, 'dropout': 0.12175468042381615}. Best is trial 17 with value: 0.6167109608650208.\u001b[0m\n",
      "\u001b[32m[I 2022-02-01 09:29:28,083]\u001b[0m Trial 59 finished with value: 0.6396048665046692 and parameters: {'activation': 'relu', 'batch_size': 16, 'n_layers': 4, 'learning_rate': 0.0031451671404165516, 'neurons': 44, 'optimizer': 'sgdwr', 'l2': 0.05542331330787515, 'dropout': 0.16138024625709335}. Best is trial 17 with value: 0.6167109608650208.\u001b[0m\n",
      "\u001b[32m[I 2022-02-01 09:29:53,132]\u001b[0m Trial 60 finished with value: 0.6518256068229675 and parameters: {'activation': 'relu', 'batch_size': 16, 'n_layers': 4, 'learning_rate': 0.003962958820076124, 'neurons': 40, 'optimizer': 'sgdwr', 'l2': 0.05505401700156219, 'dropout': 0.16368168478483036}. Best is trial 17 with value: 0.6167109608650208.\u001b[0m\n",
      "\u001b[32m[I 2022-02-01 09:30:19,600]\u001b[0m Trial 61 finished with value: 0.6592854619026184 and parameters: {'activation': 'relu', 'batch_size': 16, 'n_layers': 4, 'learning_rate': 0.0032528962018673157, 'neurons': 46, 'optimizer': 'sgdwr', 'l2': 0.03795746871040366, 'dropout': 0.18763908377696908}. Best is trial 17 with value: 0.6167109608650208.\u001b[0m\n",
      "\u001b[32m[I 2022-02-01 09:30:41,403]\u001b[0m Trial 62 finished with value: 0.6305288672447205 and parameters: {'activation': 'relu', 'batch_size': 16, 'n_layers': 4, 'learning_rate': 0.0029597044671441503, 'neurons': 49, 'optimizer': 'sgdwr', 'l2': 0.04612614245956882, 'dropout': 0.14185774016517244}. Best is trial 17 with value: 0.6167109608650208.\u001b[0m\n",
      "\u001b[32m[I 2022-02-01 09:31:02,519]\u001b[0m Trial 63 finished with value: 0.6924125909805298 and parameters: {'activation': 'relu', 'batch_size': 16, 'n_layers': 4, 'learning_rate': 0.0029595049943285556, 'neurons': 49, 'optimizer': 'sgdwr', 'l2': 0.0443133261502013, 'dropout': 0.009335477098297879}. Best is trial 17 with value: 0.6167109608650208.\u001b[0m\n",
      "\u001b[32m[I 2022-02-01 09:31:36,194]\u001b[0m Trial 64 finished with value: 0.6520158797502518 and parameters: {'activation': 'relu', 'batch_size': 16, 'n_layers': 4, 'learning_rate': 0.0034358418167987257, 'neurons': 43, 'optimizer': 'sgdwr', 'l2': 0.04892154149866693, 'dropout': 0.2026854852828016}. Best is trial 17 with value: 0.6167109608650208.\u001b[0m\n",
      "\u001b[32m[I 2022-02-01 09:31:57,920]\u001b[0m Trial 65 finished with value: 0.6723008354504904 and parameters: {'activation': 'relu', 'batch_size': 16, 'n_layers': 4, 'learning_rate': 0.004136710445839362, 'neurons': 37, 'optimizer': 'sgdwr', 'l2': 0.03225624057937787, 'dropout': 0.1446434626596466}. Best is trial 17 with value: 0.6167109608650208.\u001b[0m\n",
      "\u001b[32m[I 2022-02-01 09:32:25,555]\u001b[0m Trial 66 finished with value: 0.6418346405029297 and parameters: {'activation': 'relu', 'batch_size': 16, 'n_layers': 4, 'learning_rate': 0.0045831752407854125, 'neurons': 61, 'optimizer': 'sgdwr', 'l2': 0.060077058239634024, 'dropout': 0.16800267869320593}. Best is trial 17 with value: 0.6167109608650208.\u001b[0m\n",
      "\u001b[32m[I 2022-02-01 09:32:57,863]\u001b[0m Trial 67 finished with value: 0.6420324742794037 and parameters: {'activation': 'relu', 'batch_size': 16, 'n_layers': 4, 'learning_rate': 0.0028116006884938306, 'neurons': 113, 'optimizer': 'sgdwr', 'l2': 0.05087533731535138, 'dropout': 0.23180657381006034}. Best is trial 17 with value: 0.6167109608650208.\u001b[0m\n",
      "\u001b[32m[I 2022-02-01 09:33:21,915]\u001b[0m Trial 68 finished with value: 0.6497002442677816 and parameters: {'activation': 'relu', 'batch_size': 16, 'n_layers': 4, 'learning_rate': 0.007108276319750092, 'neurons': 47, 'optimizer': 'sgdwr', 'l2': 0.05617192240795262, 'dropout': 0.08102787216855509}. Best is trial 17 with value: 0.6167109608650208.\u001b[0m\n",
      "\u001b[32m[I 2022-02-01 09:33:36,546]\u001b[0m Trial 69 finished with value: 0.6999934911727905 and parameters: {'activation': 'relu', 'batch_size': 32, 'n_layers': 4, 'learning_rate': 0.005253909105079848, 'neurons': 64, 'optimizer': 'sgdwr', 'l2': 0.0003956546737530209, 'dropout': 0.041153176816906584}. Best is trial 17 with value: 0.6167109608650208.\u001b[0m\n",
      "\u001b[32m[I 2022-02-01 09:33:52,508]\u001b[0m Trial 70 finished with value: 0.6580067634582519 and parameters: {'activation': 'tanh', 'batch_size': 64, 'n_layers': 4, 'learning_rate': 0.0021510612014243825, 'neurons': 39, 'optimizer': 'rmsprop', 'l2': 0.06257279559686195, 'dropout': 0.2646432380937806}. Best is trial 17 with value: 0.6167109608650208.\u001b[0m\n",
      "\u001b[32m[I 2022-02-01 09:34:20,328]\u001b[0m Trial 71 finished with value: 0.6489809155464172 and parameters: {'activation': 'relu', 'batch_size': 16, 'n_layers': 4, 'learning_rate': 0.00473056632978533, 'neurons': 60, 'optimizer': 'sgdwr', 'l2': 0.06722508776475646, 'dropout': 0.15863959861064933}. Best is trial 17 with value: 0.6167109608650208.\u001b[0m\n",
      "\u001b[32m[I 2022-02-01 09:34:51,073]\u001b[0m Trial 72 finished with value: 0.6448587775230408 and parameters: {'activation': 'relu', 'batch_size': 16, 'n_layers': 4, 'learning_rate': 0.0043096017064805136, 'neurons': 69, 'optimizer': 'sgdwr', 'l2': 0.0593726219361386, 'dropout': 0.17455716044744798}. Best is trial 17 with value: 0.6167109608650208.\u001b[0m\n",
      "\u001b[32m[I 2022-02-01 09:35:14,545]\u001b[0m Trial 73 finished with value: 0.6402090191841125 and parameters: {'activation': 'relu', 'batch_size': 16, 'n_layers': 4, 'learning_rate': 0.0037120155784583324, 'neurons': 50, 'optimizer': 'sgdwr', 'l2': 0.04563610023430904, 'dropout': 0.15151904605951858}. Best is trial 17 with value: 0.6167109608650208.\u001b[0m\n",
      "\u001b[32m[I 2022-02-01 09:35:31,139]\u001b[0m Trial 74 finished with value: 0.6925378918647767 and parameters: {'activation': 'relu', 'batch_size': 128, 'n_layers': 4, 'learning_rate': 0.003615282482476767, 'neurons': 56, 'optimizer': 'sgdwr', 'l2': 0.04647027106903379, 'dropout': 0.15066458181295392}. Best is trial 17 with value: 0.6167109608650208.\u001b[0m\n",
      "\u001b[32m[I 2022-02-01 09:35:55,715]\u001b[0m Trial 75 finished with value: 0.6717184980710348 and parameters: {'activation': 'relu', 'batch_size': 16, 'n_layers': 4, 'learning_rate': 0.002691494454677063, 'neurons': 50, 'optimizer': 'sgdwr', 'l2': 0.040179662347593396, 'dropout': 0.12341375119192957}. Best is trial 17 with value: 0.6167109608650208.\u001b[0m\n",
      "\u001b[32m[I 2022-02-01 09:36:24,287]\u001b[0m Trial 76 finished with value: 0.6449255645275116 and parameters: {'activation': 'relu', 'batch_size': 16, 'n_layers': 4, 'learning_rate': 0.003277954668205162, 'neurons': 42, 'optimizer': 'sgdwr', 'l2': 0.07144969817283148, 'dropout': 0.10468580592728832}. Best is trial 17 with value: 0.6167109608650208.\u001b[0m\n",
      "\u001b[32m[I 2022-02-01 09:36:46,150]\u001b[0m Trial 77 finished with value: 0.6710428893566132 and parameters: {'activation': 'relu', 'batch_size': 64, 'n_layers': 4, 'learning_rate': 0.0039816741322670195, 'neurons': 46, 'optimizer': 'sgdwr', 'l2': 0.02580990330065026, 'dropout': 0.22251576219506264}. Best is trial 17 with value: 0.6167109608650208.\u001b[0m\n",
      "\u001b[32m[I 2022-02-01 09:37:03,448]\u001b[0m Trial 78 finished with value: 0.6431141495704651 and parameters: {'activation': 'relu', 'batch_size': 128, 'n_layers': 4, 'learning_rate': 0.00307513452308217, 'neurons': 35, 'optimizer': 'rmsprop', 'l2': 0.052883271565389085, 'dropout': 0.20976402771511615}. Best is trial 17 with value: 0.6167109608650208.\u001b[0m\n",
      "\u001b[32m[I 2022-02-01 09:37:23,760]\u001b[0m Trial 79 finished with value: 0.6732705950736999 and parameters: {'activation': 'relu', 'batch_size': 16, 'n_layers': 4, 'learning_rate': 0.008513334694051269, 'neurons': 57, 'optimizer': 'adam', 'l2': 0.04657713310122808, 'dropout': 0.29055693447108044}. Best is trial 17 with value: 0.6167109608650208.\u001b[0m\n",
      "\u001b[32m[I 2022-02-01 09:37:42,409]\u001b[0m Trial 80 finished with value: 0.6711969375610352 and parameters: {'activation': 'relu', 'batch_size': 64, 'n_layers': 4, 'learning_rate': 0.002414084739548823, 'neurons': 67, 'optimizer': 'sgdwr', 'l2': 0.05691133126621374, 'dropout': 0.1342090180807139}. Best is trial 17 with value: 0.6167109608650208.\u001b[0m\n",
      "\u001b[32m[I 2022-02-01 09:38:10,405]\u001b[0m Trial 81 finished with value: 0.6434868574142456 and parameters: {'activation': 'relu', 'batch_size': 16, 'n_layers': 4, 'learning_rate': 0.004631979701581529, 'neurons': 53, 'optimizer': 'sgdwr', 'l2': 0.06013679618559219, 'dropout': 0.16343366365479098}. Best is trial 17 with value: 0.6167109608650208.\u001b[0m\n",
      "\u001b[32m[I 2022-02-01 09:38:43,252]\u001b[0m Trial 82 finished with value: 0.6592818617820739 and parameters: {'activation': 'relu', 'batch_size': 16, 'n_layers': 4, 'learning_rate': 0.003703489963382223, 'neurons': 83, 'optimizer': 'sgdwr', 'l2': 0.064070882043617, 'dropout': 0.14631723010416112}. Best is trial 17 with value: 0.6167109608650208.\u001b[0m\n",
      "\u001b[32m[I 2022-02-01 09:39:14,059]\u001b[0m Trial 83 finished with value: 0.6315284669399261 and parameters: {'activation': 'relu', 'batch_size': 16, 'n_layers': 4, 'learning_rate': 0.005607542569174671, 'neurons': 49, 'optimizer': 'sgdwr', 'l2': 0.0503641911107186, 'dropout': 0.171209636105348}. Best is trial 17 with value: 0.6167109608650208.\u001b[0m\n",
      "\u001b[32m[I 2022-02-01 09:39:38,275]\u001b[0m Trial 84 finished with value: 0.6493658423423767 and parameters: {'activation': 'relu', 'batch_size': 16, 'n_layers': 4, 'learning_rate': 0.005531186423861503, 'neurons': 44, 'optimizer': 'sgdwr', 'l2': 0.04339368822654308, 'dropout': 0.18811673059519313}. Best is trial 17 with value: 0.6167109608650208.\u001b[0m\n",
      "\u001b[32m[I 2022-02-01 09:39:58,425]\u001b[0m Trial 85 finished with value: 0.6575687170028687 and parameters: {'activation': 'relu', 'batch_size': 32, 'n_layers': 4, 'learning_rate': 0.0057563109174783135, 'neurons': 50, 'optimizer': 'adam', 'l2': 0.04963522658230318, 'dropout': 0.18137003111024524}. Best is trial 17 with value: 0.6167109608650208.\u001b[0m\n",
      "\u001b[32m[I 2022-02-01 09:40:21,332]\u001b[0m Trial 86 finished with value: 0.6489039212465286 and parameters: {'activation': 'tanh', 'batch_size': 16, 'n_layers': 4, 'learning_rate': 0.0018286779226681857, 'neurons': 54, 'optimizer': 'adam_amsgrad', 'l2': 0.05373443880173393, 'dropout': 0.25200633525654603}. Best is trial 17 with value: 0.6167109608650208.\u001b[0m\n",
      "\u001b[32m[I 2022-02-01 09:40:36,537]\u001b[0m Trial 87 finished with value: 0.6901163220405578 and parameters: {'activation': 'relu', 'batch_size': 128, 'n_layers': 3, 'learning_rate': 0.006353859464603466, 'neurons': 48, 'optimizer': 'sgdwr', 'l2': 0.03557936324465609, 'dropout': 0.15474308431073722}. Best is trial 17 with value: 0.6167109608650208.\u001b[0m\n",
      "\u001b[32m[I 2022-02-01 09:40:53,366]\u001b[0m Trial 88 finished with value: 0.6576075156529745 and parameters: {'activation': 'relu', 'batch_size': 64, 'n_layers': 4, 'learning_rate': 0.001222346279419992, 'neurons': 38, 'optimizer': 'adam', 'l2': 0.0750341421423381, 'dropout': 0.1388420095746491}. Best is trial 17 with value: 0.6167109608650208.\u001b[0m\n",
      "\u001b[32m[I 2022-02-01 09:41:35,020]\u001b[0m Trial 89 finished with value: 0.6514502167701721 and parameters: {'activation': 'relu', 'batch_size': 8, 'n_layers': 4, 'learning_rate': 0.0012349269295845663, 'neurons': 33, 'optimizer': 'adam_amsgrad', 'l2': 0.07965342256652401, 'dropout': 0.1950200373652975}. Best is trial 17 with value: 0.6167109608650208.\u001b[0m\n",
      "\u001b[32m[I 2022-02-01 09:41:58,504]\u001b[0m Trial 90 finished with value: 0.6377878785133362 and parameters: {'activation': 'relu', 'batch_size': 16, 'n_layers': 3, 'learning_rate': 0.005343139390916003, 'neurons': 63, 'optimizer': 'sgdwr', 'l2': 0.04614994152252567, 'dropout': 0.2359190909236494}. Best is trial 17 with value: 0.6167109608650208.\u001b[0m\n",
      "\u001b[32m[I 2022-02-01 09:42:26,507]\u001b[0m Trial 91 finished with value: 0.6471560299396515 and parameters: {'activation': 'relu', 'batch_size': 16, 'n_layers': 3, 'learning_rate': 0.005200248432059219, 'neurons': 74, 'optimizer': 'sgdwr', 'l2': 0.04569877999443506, 'dropout': 0.23284252359901947}. Best is trial 17 with value: 0.6167109608650208.\u001b[0m\n",
      "\u001b[32m[I 2022-02-01 09:42:56,235]\u001b[0m Trial 92 finished with value: 0.6488278359174728 and parameters: {'activation': 'relu', 'batch_size': 16, 'n_layers': 3, 'learning_rate': 0.006103983556364307, 'neurons': 57, 'optimizer': 'sgdwr', 'l2': 0.050945187315035, 'dropout': 0.24410426613429415}. Best is trial 17 with value: 0.6167109608650208.\u001b[0m\n",
      "\u001b[32m[I 2022-02-01 09:43:15,931]\u001b[0m Trial 93 finished with value: 0.6766931653022766 and parameters: {'activation': 'relu', 'batch_size': 16, 'n_layers': 3, 'learning_rate': 0.0034848332798682376, 'neurons': 51, 'optimizer': 'sgdwr', 'l2': 0.039786943843361455, 'dropout': 0.11764622079087085}. Best is trial 17 with value: 0.6167109608650208.\u001b[0m\n",
      "\u001b[32m[I 2022-02-01 09:43:37,157]\u001b[0m Trial 94 finished with value: 0.6421396732330322 and parameters: {'activation': 'relu', 'batch_size': 16, 'n_layers': 3, 'learning_rate': 0.0066830402505485414, 'neurons': 62, 'optimizer': 'sgdwr', 'l2': 0.048068807524065345, 'dropout': 0.219119001050194}. Best is trial 17 with value: 0.6167109608650208.\u001b[0m\n",
      "\u001b[32m[I 2022-02-01 09:44:20,909]\u001b[0m Trial 95 finished with value: 0.671610414981842 and parameters: {'activation': 'relu', 'batch_size': 8, 'n_layers': 4, 'learning_rate': 0.003169627226657584, 'neurons': 46, 'optimizer': 'adam', 'l2': 0.06980702477254193, 'dropout': 0.25521067820167403}. Best is trial 17 with value: 0.6167109608650208.\u001b[0m\n",
      "\u001b[32m[I 2022-02-01 09:44:38,603]\u001b[0m Trial 96 finished with value: 0.6828431338071823 and parameters: {'activation': 'relu', 'batch_size': 64, 'n_layers': 3, 'learning_rate': 0.0026342931512953445, 'neurons': 41, 'optimizer': 'sgdwr', 'l2': 0.05724784588735059, 'dropout': 0.12627029201930418}. Best is trial 17 with value: 0.6167109608650208.\u001b[0m\n",
      "\u001b[32m[I 2022-02-01 09:44:53,988]\u001b[0m Trial 97 finished with value: 0.6390349268913269 and parameters: {'activation': 'relu', 'batch_size': 128, 'n_layers': 4, 'learning_rate': 0.0021580325572884175, 'neurons': 58, 'optimizer': 'adam_amsgrad', 'l2': 0.054550330810807963, 'dropout': 0.17199940343469716}. Best is trial 17 with value: 0.6167109608650208.\u001b[0m\n",
      "\u001b[32m[I 2022-02-01 09:45:22,760]\u001b[0m Trial 98 finished with value: 0.6590972781181336 and parameters: {'activation': 'relu', 'batch_size': 16, 'n_layers': 4, 'learning_rate': 0.0028586333540876166, 'neurons': 64, 'optimizer': 'adam_amsgrad', 'l2': 0.053881583118263306, 'dropout': 0.27216473134170505}. Best is trial 17 with value: 0.6167109608650208.\u001b[0m\n",
      "\u001b[32m[I 2022-02-01 09:45:39,028]\u001b[0m Trial 99 finished with value: 0.6640447497367858 and parameters: {'activation': 'relu', 'batch_size': 128, 'n_layers': 4, 'learning_rate': 0.003465860728779296, 'neurons': 71, 'optimizer': 'adam_amsgrad', 'l2': 0.06674832618091409, 'dropout': 0.17017101205717297}. Best is trial 17 with value: 0.6167109608650208.\u001b[0m\n",
      "\u001b[32m[I 2022-02-01 09:46:13,386]\u001b[0m Trial 100 finished with value: 0.6519654512405395 and parameters: {'activation': 'tanh', 'batch_size': 8, 'n_layers': 3, 'learning_rate': 0.00205153373890619, 'neurons': 58, 'optimizer': 'adam_amsgrad', 'l2': 0.04244066776568492, 'dropout': 0.13646513704612395}. Best is trial 17 with value: 0.6167109608650208.\u001b[0m\n",
      "\u001b[32m[I 2022-02-01 09:46:31,776]\u001b[0m Trial 101 finished with value: 0.6594738364219666 and parameters: {'activation': 'relu', 'batch_size': 128, 'n_layers': 4, 'learning_rate': 0.0017907052449118285, 'neurons': 53, 'optimizer': 'adam_amsgrad', 'l2': 0.06269528165847887, 'dropout': 0.2086118462803428}. Best is trial 17 with value: 0.6167109608650208.\u001b[0m\n",
      "\u001b[32m[I 2022-02-01 09:46:47,270]\u001b[0m Trial 102 finished with value: 0.658176600933075 and parameters: {'activation': 'relu', 'batch_size': 128, 'n_layers': 4, 'learning_rate': 0.002324313522469282, 'neurons': 44, 'optimizer': 'adam_amsgrad', 'l2': 0.05561150729176508, 'dropout': 0.16045621752517367}. Best is trial 17 with value: 0.6167109608650208.\u001b[0m\n",
      "\u001b[32m[I 2022-02-01 09:47:02,893]\u001b[0m Trial 103 finished with value: 0.6408356726169586 and parameters: {'activation': 'relu', 'batch_size': 128, 'n_layers': 4, 'learning_rate': 0.0013584208121622397, 'neurons': 66, 'optimizer': 'rmsprop', 'l2': 0.048590213920273996, 'dropout': 0.17680498723236804}. Best is trial 17 with value: 0.6167109608650208.\u001b[0m\n",
      "\u001b[32m[I 2022-02-01 09:47:17,782]\u001b[0m Trial 104 finished with value: 0.6608007550239563 and parameters: {'activation': 'relu', 'batch_size': 128, 'n_layers': 4, 'learning_rate': 0.0025239460884296044, 'neurons': 65, 'optimizer': 'rmsprop', 'l2': 0.05095122541721707, 'dropout': 0.1771058687441128}. Best is trial 17 with value: 0.6167109608650208.\u001b[0m\n",
      "\u001b[32m[I 2022-02-01 09:47:31,758]\u001b[0m Trial 105 finished with value: 0.6584784388542175 and parameters: {'activation': 'relu', 'batch_size': 64, 'n_layers': 4, 'learning_rate': 0.00128350455985345, 'neurons': 68, 'optimizer': 'rmsprop', 'l2': 0.0452535742374634, 'dropout': 0.14498215214936994}. Best is trial 17 with value: 0.6167109608650208.\u001b[0m\n",
      "\u001b[32m[I 2022-02-01 09:47:57,282]\u001b[0m Trial 106 finished with value: 0.6769100189208984 and parameters: {'activation': 'relu', 'batch_size': 16, 'n_layers': 4, 'learning_rate': 0.0029585201163182242, 'neurons': 75, 'optimizer': 'rmsprop', 'l2': 0.058121462085461324, 'dropout': 0.16967563736453292}. Best is trial 17 with value: 0.6167109608650208.\u001b[0m\n",
      "\u001b[32m[I 2022-02-01 09:48:09,411]\u001b[0m Trial 107 finished with value: 0.6854227781295776 and parameters: {'activation': 'relu', 'batch_size': 128, 'n_layers': 1, 'learning_rate': 0.0014301528214925266, 'neurons': 80, 'optimizer': 'rmsprop', 'l2': 0.04820454051130426, 'dropout': 0.15312833459255507}. Best is trial 17 with value: 0.6167109608650208.\u001b[0m\n",
      "\u001b[32m[I 2022-02-01 09:48:34,387]\u001b[0m Trial 108 finished with value: 0.6552092730998993 and parameters: {'activation': 'relu', 'batch_size': 32, 'n_layers': 4, 'learning_rate': 0.0010250454326488185, 'neurons': 61, 'optimizer': 'sgdwr', 'l2': 0.03811816477386899, 'dropout': 0.18902522095705648}. Best is trial 17 with value: 0.6167109608650208.\u001b[0m\n",
      "\u001b[32m[I 2022-02-01 09:49:10,644]\u001b[0m Trial 109 finished with value: 0.6418024301528931 and parameters: {'activation': 'relu', 'batch_size': 8, 'n_layers': 4, 'learning_rate': 0.00214531913025793, 'neurons': 55, 'optimizer': 'rmsprop', 'l2': 0.05209785228450958, 'dropout': 0.11430275062733575}. Best is trial 17 with value: 0.6167109608650208.\u001b[0m\n",
      "\u001b[32m[I 2022-02-01 09:49:39,249]\u001b[0m Trial 110 finished with value: 0.6591584324836731 and parameters: {'activation': 'relu', 'batch_size': 16, 'n_layers': 4, 'learning_rate': 0.003309197683638243, 'neurons': 49, 'optimizer': 'adam_amsgrad', 'l2': 0.05468411085156563, 'dropout': 0.28526315182227746}. Best is trial 17 with value: 0.6167109608650208.\u001b[0m\n",
      "\u001b[32m[I 2022-02-01 09:49:55,528]\u001b[0m Trial 111 finished with value: 0.6513267040252686 and parameters: {'activation': 'relu', 'batch_size': 128, 'n_layers': 4, 'learning_rate': 0.001184709977325467, 'neurons': 58, 'optimizer': 'adam', 'l2': 0.04795379516945545, 'dropout': 0.23859337142022025}. Best is trial 17 with value: 0.6167109608650208.\u001b[0m\n",
      "\u001b[32m[I 2022-02-01 09:50:12,110]\u001b[0m Trial 112 finished with value: 0.687441885471344 and parameters: {'activation': 'relu', 'batch_size': 128, 'n_layers': 4, 'learning_rate': 0.0015628827800492863, 'neurons': 52, 'optimizer': 'sgdwr', 'l2': 0.08885500758152001, 'dropout': 0.18053516569629052}. Best is trial 17 with value: 0.6167109608650208.\u001b[0m\n",
      "\u001b[32m[I 2022-02-01 09:50:25,198]\u001b[0m Trial 113 finished with value: 0.7030046184857687 and parameters: {'activation': 'relu', 'batch_size': 128, 'n_layers': 4, 'learning_rate': 0.0017394099462286886, 'neurons': 47, 'optimizer': 'sgdwr', 'l2': 0.043618781080027744, 'dropout': 0.20070017453363093}. Best is trial 17 with value: 0.6167109608650208.\u001b[0m\n",
      "\u001b[32m[I 2022-02-01 09:50:42,468]\u001b[0m Trial 114 finished with value: 0.6594228446483612 and parameters: {'activation': 'relu', 'batch_size': 128, 'n_layers': 4, 'learning_rate': 0.0013659124059999484, 'neurons': 55, 'optimizer': 'adam', 'l2': 0.03516057388265145, 'dropout': 0.22441338533702213}. Best is trial 17 with value: 0.6167109608650208.\u001b[0m\n",
      "\u001b[32m[I 2022-02-01 09:50:59,350]\u001b[0m Trial 115 finished with value: 0.628374844789505 and parameters: {'activation': 'relu', 'batch_size': 64, 'n_layers': 4, 'learning_rate': 0.0037478574660001797, 'neurons': 44, 'optimizer': 'adam_amsgrad', 'l2': 0.0641740019233164, 'dropout': 0.16572393069938043}. Best is trial 17 with value: 0.6167109608650208.\u001b[0m\n",
      "\u001b[32m[I 2022-02-01 09:51:14,995]\u001b[0m Trial 116 finished with value: 0.6547040045261383 and parameters: {'activation': 'relu', 'batch_size': 64, 'n_layers': 4, 'learning_rate': 0.004112762229620061, 'neurons': 60, 'optimizer': 'adam_amsgrad', 'l2': 0.06453644193859903, 'dropout': 0.14745768767281103}. Best is trial 17 with value: 0.6167109608650208.\u001b[0m\n",
      "\u001b[32m[I 2022-02-01 09:51:31,028]\u001b[0m Trial 117 finished with value: 0.6571887850761413 and parameters: {'activation': 'relu', 'batch_size': 64, 'n_layers': 4, 'learning_rate': 0.003707557993125998, 'neurons': 44, 'optimizer': 'adam_amsgrad', 'l2': 0.061652191513122775, 'dropout': 0.1732390924032995}. Best is trial 17 with value: 0.6167109608650208.\u001b[0m\n",
      "\u001b[32m[I 2022-02-01 09:51:46,983]\u001b[0m Trial 118 finished with value: 0.6369362473487854 and parameters: {'activation': 'relu', 'batch_size': 64, 'n_layers': 3, 'learning_rate': 0.0038114328944749004, 'neurons': 66, 'optimizer': 'adam_amsgrad', 'l2': 0.05893144623818633, 'dropout': 0.09940686534493662}. Best is trial 17 with value: 0.6167109608650208.\u001b[0m\n",
      "\u001b[32m[I 2022-02-01 09:52:02,706]\u001b[0m Trial 119 finished with value: 0.6546212911605835 and parameters: {'activation': 'tanh', 'batch_size': 64, 'n_layers': 3, 'learning_rate': 0.003861593938453929, 'neurons': 41, 'optimizer': 'adam_amsgrad', 'l2': 0.05886428193601635, 'dropout': 0.07184684823387788}. Best is trial 17 with value: 0.6167109608650208.\u001b[0m\n",
      "\u001b[32m[I 2022-02-01 09:52:22,777]\u001b[0m Trial 120 finished with value: 0.6497668862342835 and parameters: {'activation': 'relu', 'batch_size': 64, 'n_layers': 3, 'learning_rate': 0.004451985521646678, 'neurons': 70, 'optimizer': 'adam_amsgrad', 'l2': 0.06624537436771272, 'dropout': 0.09022141515114246}. Best is trial 17 with value: 0.6167109608650208.\u001b[0m\n",
      "\u001b[32m[I 2022-02-01 09:52:43,192]\u001b[0m Trial 121 finished with value: 0.6608920454978943 and parameters: {'activation': 'relu', 'batch_size': 64, 'n_layers': 3, 'learning_rate': 0.0030413792914286853, 'neurons': 66, 'optimizer': 'adam_amsgrad', 'l2': 0.04970060333404379, 'dropout': 0.10591237335202917}. Best is trial 17 with value: 0.6167109608650208.\u001b[0m\n",
      "\u001b[32m[I 2022-02-01 09:52:59,471]\u001b[0m Trial 122 finished with value: 0.6524166762828827 and parameters: {'activation': 'relu', 'batch_size': 64, 'n_layers': 3, 'learning_rate': 0.002736795137951119, 'neurons': 63, 'optimizer': 'adam_amsgrad', 'l2': 0.06335757611755202, 'dropout': 0.1648823269753516}. Best is trial 17 with value: 0.6167109608650208.\u001b[0m\n",
      "\u001b[32m[I 2022-02-01 09:53:16,650]\u001b[0m Trial 123 finished with value: 0.6537508964538574 and parameters: {'activation': 'relu', 'batch_size': 64, 'n_layers': 3, 'learning_rate': 0.0033434140963143405, 'neurons': 51, 'optimizer': 'adam_amsgrad', 'l2': 0.056049046762124244, 'dropout': 0.15816454734871138}. Best is trial 17 with value: 0.6167109608650208.\u001b[0m\n",
      "\u001b[32m[I 2022-02-01 09:53:34,578]\u001b[0m Trial 124 finished with value: 0.6481111645698547 and parameters: {'activation': 'relu', 'batch_size': 64, 'n_layers': 4, 'learning_rate': 0.005644183529743224, 'neurons': 56, 'optimizer': 'adam_amsgrad', 'l2': 0.05995503573998923, 'dropout': 0.12921878294759082}. Best is trial 17 with value: 0.6167109608650208.\u001b[0m\n",
      "\u001b[32m[I 2022-02-01 09:54:01,362]\u001b[0m Trial 125 finished with value: 0.6640565196673075 and parameters: {'activation': 'relu', 'batch_size': 16, 'n_layers': 4, 'learning_rate': 0.003970501459856865, 'neurons': 67, 'optimizer': 'sgdwr', 'l2': 0.052338377038811466, 'dropout': 0.1417626819560128}. Best is trial 17 with value: 0.6167109608650208.\u001b[0m\n",
      "\u001b[32m[I 2022-02-01 09:54:31,544]\u001b[0m Trial 126 finished with value: 0.6450960636138916 and parameters: {'activation': 'relu', 'batch_size': 8, 'n_layers': 3, 'learning_rate': 0.005001979498915126, 'neurons': 45, 'optimizer': 'sgdwr', 'l2': 0.04106369051379866, 'dropout': 0.09547290667172338}. Best is trial 17 with value: 0.6167109608650208.\u001b[0m\n",
      "\u001b[32m[I 2022-02-01 09:54:46,126]\u001b[0m Trial 127 finished with value: 0.6486520648002625 and parameters: {'activation': 'relu', 'batch_size': 64, 'n_layers': 4, 'learning_rate': 0.0037808845048409646, 'neurons': 48, 'optimizer': 'adam_amsgrad', 'l2': 0.04681535449331335, 'dropout': 0.05813188759683214}. Best is trial 17 with value: 0.6167109608650208.\u001b[0m\n",
      "\u001b[32m[I 2022-02-01 09:55:09,662]\u001b[0m Trial 128 finished with value: 0.6546613454818726 and parameters: {'activation': 'relu', 'batch_size': 16, 'n_layers': 4, 'learning_rate': 0.007865817802707937, 'neurons': 59, 'optimizer': 'sgdwr', 'l2': 0.058293435826875975, 'dropout': 0.15107815945963804}. Best is trial 17 with value: 0.6167109608650208.\u001b[0m\n",
      "\u001b[32m[I 2022-02-01 09:55:34,345]\u001b[0m Trial 129 finished with value: 0.6584129333496094 and parameters: {'activation': 'relu', 'batch_size': 16, 'n_layers': 3, 'learning_rate': 0.003547157182104873, 'neurons': 35, 'optimizer': 'adam_amsgrad', 'l2': 0.07180901287279284, 'dropout': 0.16295334472722806}. Best is trial 17 with value: 0.6167109608650208.\u001b[0m\n",
      "\u001b[32m[I 2022-02-01 09:55:53,629]\u001b[0m Trial 130 finished with value: 0.6621751189231873 and parameters: {'activation': 'relu', 'batch_size': 64, 'n_layers': 4, 'learning_rate': 0.0042157816087307984, 'neurons': 39, 'optimizer': 'rmsprop', 'l2': 0.06758438081454463, 'dropout': 0.2780581520162534}. Best is trial 17 with value: 0.6167109608650208.\u001b[0m\n",
      "\u001b[32m[I 2022-02-01 09:56:12,743]\u001b[0m Trial 131 finished with value: 0.66331547498703 and parameters: {'activation': 'relu', 'batch_size': 128, 'n_layers': 4, 'learning_rate': 0.0010113066607447521, 'neurons': 49, 'optimizer': 'adam', 'l2': 0.054580444178675726, 'dropout': 0.1854097026761491}. Best is trial 17 with value: 0.6167109608650208.\u001b[0m\n",
      "\u001b[32m[I 2022-02-01 09:56:58,593]\u001b[0m Trial 132 finished with value: 0.6420870025952657 and parameters: {'activation': 'relu', 'batch_size': 8, 'n_layers': 4, 'learning_rate': 0.003068125943665103, 'neurons': 53, 'optimizer': 'sgdwr', 'l2': 0.06101526571925413, 'dropout': 0.23014013482886722}. Best is trial 17 with value: 0.6167109608650208.\u001b[0m\n",
      "\u001b[32m[I 2022-02-01 09:57:24,080]\u001b[0m Trial 133 finished with value: 0.6685492992401123 and parameters: {'activation': 'relu', 'batch_size': 16, 'n_layers': 4, 'learning_rate': 0.0052891943686420645, 'neurons': 51, 'optimizer': 'adam', 'l2': 0.05028032483475313, 'dropout': 0.1952036252558379}. Best is trial 17 with value: 0.6167109608650208.\u001b[0m\n",
      "\u001b[32m[I 2022-02-01 09:57:43,083]\u001b[0m Trial 134 finished with value: 0.6831350207328797 and parameters: {'activation': 'relu', 'batch_size': 128, 'n_layers': 4, 'learning_rate': 0.006043606591261637, 'neurons': 63, 'optimizer': 'sgdwr', 'l2': 0.04472871149451873, 'dropout': 0.24753341953535726}. Best is trial 17 with value: 0.6167109608650208.\u001b[0m\n",
      "\u001b[32m[I 2022-02-01 09:57:58,546]\u001b[0m Trial 135 finished with value: 0.642055332660675 and parameters: {'activation': 'relu', 'batch_size': 64, 'n_layers': 4, 'learning_rate': 0.0016382004722347906, 'neurons': 44, 'optimizer': 'adam_amsgrad', 'l2': 0.09269799446364765, 'dropout': 0.1012903813772033}. Best is trial 17 with value: 0.6167109608650208.\u001b[0m\n",
      "\u001b[32m[I 2022-02-01 09:58:21,277]\u001b[0m Trial 136 finished with value: 0.6440393328666687 and parameters: {'activation': 'relu', 'batch_size': 32, 'n_layers': 4, 'learning_rate': 0.0019206208883479424, 'neurons': 41, 'optimizer': 'sgdwr', 'l2': 0.011205297015987783, 'dropout': 0.26586470674225876}. Best is trial 17 with value: 0.6167109608650208.\u001b[0m\n",
      "\u001b[32m[I 2022-02-01 09:58:42,201]\u001b[0m Trial 137 finished with value: 0.6613106966018677 and parameters: {'activation': 'relu', 'batch_size': 16, 'n_layers': 3, 'learning_rate': 0.00318230288217786, 'neurons': 47, 'optimizer': 'adam_amsgrad', 'l2': 0.09601794459710428, 'dropout': 0.21524793215516624}. Best is trial 17 with value: 0.6167109608650208.\u001b[0m\n",
      "\u001b[32m[I 2022-02-01 09:59:27,028]\u001b[0m Trial 138 finished with value: 0.6484556943178177 and parameters: {'activation': 'relu', 'batch_size': 8, 'n_layers': 4, 'learning_rate': 0.001145801193247248, 'neurons': 61, 'optimizer': 'sgdwr', 'l2': 0.05174489591166406, 'dropout': 0.17454961343501643}. Best is trial 17 with value: 0.6167109608650208.\u001b[0m\n",
      "\u001b[32m[I 2022-02-01 09:59:40,568]\u001b[0m Trial 139 finished with value: 0.6611703753471374 and parameters: {'activation': 'tanh', 'batch_size': 128, 'n_layers': 4, 'learning_rate': 0.00286210021636383, 'neurons': 72, 'optimizer': 'adam', 'l2': 0.057154116196238496, 'dropout': 0.1685716931191379}. Best is trial 17 with value: 0.6167109608650208.\u001b[0m\n",
      "\u001b[32m[I 2022-02-01 10:00:01,384]\u001b[0m Trial 140 finished with value: 0.6700304865837097 and parameters: {'activation': 'relu', 'batch_size': 16, 'n_layers': 4, 'learning_rate': 0.00338414226742131, 'neurons': 56, 'optimizer': 'rmsprop', 'l2': 0.06510344252688222, 'dropout': 0.1803141226617065}. Best is trial 17 with value: 0.6167109608650208.\u001b[0m\n",
      "\u001b[32m[I 2022-02-01 10:00:55,448]\u001b[0m Trial 141 finished with value: 0.6595150977373123 and parameters: {'activation': 'relu', 'batch_size': 8, 'n_layers': 4, 'learning_rate': 0.002142068730155146, 'neurons': 54, 'optimizer': 'rmsprop', 'l2': 0.05346872956399944, 'dropout': 0.11770903652163375}. Best is trial 17 with value: 0.6167109608650208.\u001b[0m\n",
      "\u001b[32m[I 2022-02-01 10:01:50,076]\u001b[0m Trial 142 finished with value: 0.6546867370605469 and parameters: {'activation': 'relu', 'batch_size': 8, 'n_layers': 4, 'learning_rate': 0.001372163665384457, 'neurons': 50, 'optimizer': 'rmsprop', 'l2': 0.04748845883040683, 'dropout': 0.10976770488121931}. Best is trial 17 with value: 0.6167109608650208.\u001b[0m\n",
      "\u001b[32m[I 2022-02-01 10:02:48,999]\u001b[0m Trial 143 finished with value: 0.6909406900405883 and parameters: {'activation': 'relu', 'batch_size': 8, 'n_layers': 4, 'learning_rate': 0.009822932757177414, 'neurons': 58, 'optimizer': 'rmsprop', 'l2': 0.05115823545295979, 'dropout': 0.1562692815912698}. Best is trial 17 with value: 0.6167109608650208.\u001b[0m\n",
      "\u001b[32m[I 2022-02-01 10:03:45,082]\u001b[0m Trial 144 finished with value: 0.6701603412628174 and parameters: {'activation': 'relu', 'batch_size': 8, 'n_layers': 4, 'learning_rate': 0.002597304475103415, 'neurons': 55, 'optimizer': 'rmsprop', 'l2': 0.055724490737614395, 'dropout': 0.12247388912933851}. Best is trial 17 with value: 0.6167109608650208.\u001b[0m\n",
      "\u001b[32m[I 2022-02-01 10:04:34,216]\u001b[0m Trial 145 finished with value: 0.6690873384475708 and parameters: {'activation': 'relu', 'batch_size': 8, 'n_layers': 4, 'learning_rate': 0.002259085618922141, 'neurons': 64, 'optimizer': 'rmsprop', 'l2': 0.06274838972899394, 'dropout': 0.114232453806908}. Best is trial 17 with value: 0.6167109608650208.\u001b[0m\n",
      "\u001b[32m[I 2022-02-01 10:05:03,341]\u001b[0m Trial 146 finished with value: 0.6700370907783508 and parameters: {'activation': 'relu', 'batch_size': 64, 'n_layers': 4, 'learning_rate': 0.003665111812277125, 'neurons': 68, 'optimizer': 'sgdwr', 'l2': 0.08505151758660108, 'dropout': 0.13320981800528395}. Best is trial 17 with value: 0.6167109608650208.\u001b[0m\n",
      "\u001b[32m[I 2022-02-01 10:05:35,360]\u001b[0m Trial 147 finished with value: 0.6523778200149536 and parameters: {'activation': 'relu', 'batch_size': 16, 'n_layers': 3, 'learning_rate': 0.0015139699460454802, 'neurons': 120, 'optimizer': 'adam_amsgrad', 'l2': 0.04883346524175836, 'dropout': 0.25734376730540187}. Best is trial 17 with value: 0.6167109608650208.\u001b[0m\n",
      "\u001b[32m[I 2022-02-01 10:05:56,065]\u001b[0m Trial 148 finished with value: 0.6639823615550995 and parameters: {'activation': 'relu', 'batch_size': 128, 'n_layers': 2, 'learning_rate': 0.0024075411643419793, 'neurons': 48, 'optimizer': 'sgdwr', 'l2': 0.05323543239138351, 'dropout': 0.23562687992977344}. Best is trial 17 with value: 0.6167109608650208.\u001b[0m\n",
      "\u001b[32m[I 2022-02-01 10:06:52,012]\u001b[0m Trial 149 finished with value: 0.6488483349482218 and parameters: {'activation': 'relu', 'batch_size': 8, 'n_layers': 4, 'learning_rate': 0.0012438331607100986, 'neurons': 43, 'optimizer': 'adam_amsgrad', 'l2': 0.04438578191008872, 'dropout': 0.15078812365813962}. Best is trial 17 with value: 0.6167109608650208.\u001b[0m\n",
      "\u001b[32m[I 2022-02-01 10:07:26,626]\u001b[0m Trial 150 finished with value: 0.6564893007278443 and parameters: {'activation': 'relu', 'batch_size': 16, 'n_layers': 4, 'learning_rate': 0.0031881655263910434, 'neurons': 60, 'optimizer': 'adam', 'l2': 0.05989083173643043, 'dropout': 0.19067638068115275}. Best is trial 17 with value: 0.6167109608650208.\u001b[0m\n",
      "\u001b[32m[I 2022-02-01 10:07:58,525]\u001b[0m Trial 151 finished with value: 0.6545776009559632 and parameters: {'activation': 'relu', 'batch_size': 16, 'n_layers': 4, 'learning_rate': 0.004796412581935281, 'neurons': 66, 'optimizer': 'sgdwr', 'l2': 0.05816372273718111, 'dropout': 0.16350136252320785}. Best is trial 17 with value: 0.6167109608650208.\u001b[0m\n",
      "\u001b[32m[I 2022-02-01 10:08:29,177]\u001b[0m Trial 152 finished with value: 0.6558295845985412 and parameters: {'activation': 'relu', 'batch_size': 16, 'n_layers': 4, 'learning_rate': 0.0046273576991589715, 'neurons': 53, 'optimizer': 'sgdwr', 'l2': 0.06167600055112281, 'dropout': 0.13863467144672023}. Best is trial 17 with value: 0.6167109608650208.\u001b[0m\n",
      "\u001b[32m[I 2022-02-01 10:09:01,524]\u001b[0m Trial 153 finished with value: 0.6469817012548447 and parameters: {'activation': 'relu', 'batch_size': 16, 'n_layers': 4, 'learning_rate': 0.0044190559335842965, 'neurons': 57, 'optimizer': 'sgdwr', 'l2': 0.07738605635971958, 'dropout': 0.171900527985601}. Best is trial 17 with value: 0.6167109608650208.\u001b[0m\n",
      "\u001b[32m[I 2022-02-01 10:09:27,207]\u001b[0m Trial 154 finished with value: 0.6518383979797363 and parameters: {'activation': 'relu', 'batch_size': 16, 'n_layers': 4, 'learning_rate': 0.0058112366844265875, 'neurons': 46, 'optimizer': 'sgdwr', 'l2': 0.06965769558017985, 'dropout': 0.08448285947521479}. Best is trial 17 with value: 0.6167109608650208.\u001b[0m\n",
      "\u001b[32m[I 2022-02-01 10:09:44,545]\u001b[0m Trial 155 finished with value: 0.6451565027236938 and parameters: {'activation': 'relu', 'batch_size': 64, 'n_layers': 4, 'learning_rate': 0.0039752598514706024, 'neurons': 62, 'optimizer': 'sgdwr', 'l2': 0.059689118630492005, 'dropout': 0.1687582999165191}. Best is trial 17 with value: 0.6167109608650208.\u001b[0m\n",
      "\u001b[32m[I 2022-02-01 10:10:18,988]\u001b[0m Trial 156 finished with value: 0.6580546021461486 and parameters: {'activation': 'relu', 'batch_size': 16, 'n_layers': 4, 'learning_rate': 0.003570527027794804, 'neurons': 69, 'optimizer': 'adam_amsgrad', 'l2': 0.04209767518136724, 'dropout': 0.18217449627034643}. Best is trial 17 with value: 0.6167109608650208.\u001b[0m\n",
      "\u001b[32m[I 2022-02-01 10:10:44,587]\u001b[0m Trial 157 finished with value: 0.6622647494077682 and parameters: {'activation': 'relu', 'batch_size': 128, 'n_layers': 4, 'learning_rate': 0.005522877790562707, 'neurons': 51, 'optimizer': 'sgdwr', 'l2': 0.056226094915915834, 'dropout': 0.1567806866079126}. Best is trial 17 with value: 0.6167109608650208.\u001b[0m\n",
      "\u001b[32m[I 2022-02-01 10:11:05,431]\u001b[0m Trial 158 finished with value: 0.6832868903875351 and parameters: {'activation': 'relu', 'batch_size': 64, 'n_layers': 3, 'learning_rate': 0.006273439949739581, 'neurons': 103, 'optimizer': 'rmsprop', 'l2': 0.08092984156444519, 'dropout': 0.24162203945963867}. Best is trial 17 with value: 0.6167109608650208.\u001b[0m\n",
      "\u001b[32m[I 2022-02-01 10:11:38,535]\u001b[0m Trial 159 finished with value: 0.6658862829208374 and parameters: {'activation': 'relu', 'batch_size': 16, 'n_layers': 4, 'learning_rate': 0.002787557756897189, 'neurons': 60, 'optimizer': 'sgdwr', 'l2': 0.046095062283291785, 'dropout': 0.14435490165016185}. Best is trial 17 with value: 0.6167109608650208.\u001b[0m\n",
      "\u001b[32m[I 2022-02-01 10:12:07,742]\u001b[0m Trial 160 finished with value: 0.655602502822876 and parameters: {'activation': 'tanh', 'batch_size': 32, 'n_layers': 4, 'learning_rate': 0.005174552157715265, 'neurons': 75, 'optimizer': 'adam_amsgrad', 'l2': 0.0521168994498416, 'dropout': 0.1999865037463833}. Best is trial 17 with value: 0.6167109608650208.\u001b[0m\n",
      "\u001b[32m[I 2022-02-01 10:12:43,907]\u001b[0m Trial 161 finished with value: 0.6424605846405029 and parameters: {'activation': 'relu', 'batch_size': 16, 'n_layers': 4, 'learning_rate': 0.003443519729107567, 'neurons': 100, 'optimizer': 'sgdwr', 'l2': 0.04872505701058384, 'dropout': 0.22318383042004375}. Best is trial 17 with value: 0.6167109608650208.\u001b[0m\n",
      "\u001b[32m[I 2022-02-01 10:13:22,877]\u001b[0m Trial 162 finished with value: 0.6567625105381012 and parameters: {'activation': 'relu', 'batch_size': 16, 'n_layers': 4, 'learning_rate': 0.0028276834513613234, 'neurons': 49, 'optimizer': 'sgdwr', 'l2': 0.049877157912856906, 'dropout': 0.17661164217035336}. Best is trial 17 with value: 0.6167109608650208.\u001b[0m\n",
      "\u001b[32m[I 2022-02-01 10:13:57,573]\u001b[0m Trial 163 finished with value: 0.6553156256675721 and parameters: {'activation': 'relu', 'batch_size': 16, 'n_layers': 4, 'learning_rate': 0.003004788375371249, 'neurons': 112, 'optimizer': 'sgdwr', 'l2': 0.0549762314613559, 'dropout': 0.23584319254983319}. Best is trial 17 with value: 0.6167109608650208.\u001b[0m\n",
      "\u001b[32m[I 2022-02-01 10:14:44,755]\u001b[0m Trial 164 finished with value: 0.6606862545013428 and parameters: {'activation': 'relu', 'batch_size': 16, 'n_layers': 4, 'learning_rate': 0.0010339509397902771, 'neurons': 86, 'optimizer': 'sgdwr', 'l2': 0.05212290722895879, 'dropout': 0.21158355554747846}. Best is trial 17 with value: 0.6167109608650208.\u001b[0m\n",
      "\u001b[32m[I 2022-02-01 10:15:21,255]\u001b[0m Trial 165 finished with value: 0.6558780550956727 and parameters: {'activation': 'relu', 'batch_size': 16, 'n_layers': 4, 'learning_rate': 0.003222373119036728, 'neurons': 108, 'optimizer': 'adam', 'l2': 0.05755157661709609, 'dropout': 0.22777762645979027}. Best is trial 17 with value: 0.6167109608650208.\u001b[0m\n",
      "\u001b[32m[I 2022-02-01 10:15:41,010]\u001b[0m Trial 166 finished with value: 0.69786696434021 and parameters: {'activation': 'relu', 'batch_size': 128, 'n_layers': 4, 'learning_rate': 0.0038301265517327156, 'neurons': 42, 'optimizer': 'sgdwr', 'l2': 0.06363229571978934, 'dropout': 0.16596880764898003}. Best is trial 17 with value: 0.6167109608650208.\u001b[0m\n",
      "\u001b[32m[I 2022-02-01 10:16:01,028]\u001b[0m Trial 167 finished with value: 0.6223155856132507 and parameters: {'activation': 'relu', 'batch_size': 64, 'n_layers': 3, 'learning_rate': 0.004105208865445424, 'neurons': 37, 'optimizer': 'adam_amsgrad', 'l2': 0.050698918870775544, 'dropout': 0.2057833567151259}. Best is trial 17 with value: 0.6167109608650208.\u001b[0m\n",
      "\u001b[32m[I 2022-02-01 10:16:19,687]\u001b[0m Trial 168 finished with value: 0.6515541911125183 and parameters: {'activation': 'relu', 'batch_size': 64, 'n_layers': 3, 'learning_rate': 0.0042865331309965785, 'neurons': 37, 'optimizer': 'adam_amsgrad', 'l2': 0.04654039612388511, 'dropout': 0.15963719980984115}. Best is trial 17 with value: 0.6167109608650208.\u001b[0m\n",
      "\u001b[32m[I 2022-02-01 10:16:40,027]\u001b[0m Trial 169 finished with value: 0.6462728023529053 and parameters: {'activation': 'relu', 'batch_size': 64, 'n_layers': 3, 'learning_rate': 0.004067591980488247, 'neurons': 40, 'optimizer': 'adam_amsgrad', 'l2': 0.039604886964697425, 'dropout': 0.2164872456011596}. Best is trial 17 with value: 0.6167109608650208.\u001b[0m\n",
      "\u001b[32m[I 2022-02-01 10:17:04,473]\u001b[0m Trial 170 finished with value: 0.6460618674755096 and parameters: {'activation': 'relu', 'batch_size': 64, 'n_layers': 3, 'learning_rate': 0.004530689137744801, 'neurons': 26, 'optimizer': 'adam_amsgrad', 'l2': 0.06070913360643897, 'dropout': 0.20206620502598147}. Best is trial 17 with value: 0.6167109608650208.\u001b[0m\n",
      "\u001b[32m[I 2022-02-01 10:17:28,004]\u001b[0m Trial 171 finished with value: 0.6257631778717041 and parameters: {'activation': 'relu', 'batch_size': 64, 'n_layers': 3, 'learning_rate': 0.003769177395539439, 'neurons': 33, 'optimizer': 'adam_amsgrad', 'l2': 0.05072251302158977, 'dropout': 0.24826604431303592}. Best is trial 17 with value: 0.6167109608650208.\u001b[0m\n",
      "\u001b[32m[I 2022-02-01 10:17:49,551]\u001b[0m Trial 172 finished with value: 0.6360727250576019 and parameters: {'activation': 'relu', 'batch_size': 64, 'n_layers': 3, 'learning_rate': 0.0038402763000367295, 'neurons': 32, 'optimizer': 'adam_amsgrad', 'l2': 0.05110143502127497, 'dropout': 0.25213630291828854}. Best is trial 17 with value: 0.6167109608650208.\u001b[0m\n",
      "\u001b[32m[I 2022-02-01 10:18:10,860]\u001b[0m Trial 173 finished with value: 0.6373257637023926 and parameters: {'activation': 'relu', 'batch_size': 64, 'n_layers': 3, 'learning_rate': 0.003773874394830447, 'neurons': 31, 'optimizer': 'adam_amsgrad', 'l2': 0.05031995912313048, 'dropout': 0.245616966179776}. Best is trial 17 with value: 0.6167109608650208.\u001b[0m\n",
      "\u001b[32m[I 2022-02-01 10:18:30,393]\u001b[0m Trial 174 finished with value: 0.6196654438972473 and parameters: {'activation': 'relu', 'batch_size': 64, 'n_layers': 3, 'learning_rate': 0.0037165840172948897, 'neurons': 31, 'optimizer': 'adam_amsgrad', 'l2': 0.048444774790293216, 'dropout': 0.24894887382998143}. Best is trial 17 with value: 0.6167109608650208.\u001b[0m\n",
      "\u001b[32m[I 2022-02-01 10:18:49,190]\u001b[0m Trial 175 finished with value: 0.6301347017288208 and parameters: {'activation': 'relu', 'batch_size': 64, 'n_layers': 3, 'learning_rate': 0.003808164080429752, 'neurons': 32, 'optimizer': 'adam_amsgrad', 'l2': 0.0497451041883169, 'dropout': 0.24797694067124124}. Best is trial 17 with value: 0.6167109608650208.\u001b[0m\n",
      "\u001b[32m[I 2022-02-01 10:19:11,694]\u001b[0m Trial 176 finished with value: 0.6420188546180725 and parameters: {'activation': 'relu', 'batch_size': 64, 'n_layers': 3, 'learning_rate': 0.0038423128236620033, 'neurons': 29, 'optimizer': 'adam_amsgrad', 'l2': 0.05009267488500222, 'dropout': 0.2620467671283475}. Best is trial 17 with value: 0.6167109608650208.\u001b[0m\n",
      "\u001b[32m[I 2022-02-01 10:19:35,165]\u001b[0m Trial 177 finished with value: 0.6326574087142944 and parameters: {'activation': 'relu', 'batch_size': 64, 'n_layers': 3, 'learning_rate': 0.003623534648517614, 'neurons': 33, 'optimizer': 'adam_amsgrad', 'l2': 0.044176566504722625, 'dropout': 0.25030753493207586}. Best is trial 17 with value: 0.6167109608650208.\u001b[0m\n",
      "\u001b[32m[I 2022-02-01 10:20:00,781]\u001b[0m Trial 178 finished with value: 0.6339942812919617 and parameters: {'activation': 'relu', 'batch_size': 64, 'n_layers': 3, 'learning_rate': 0.00359143113919116, 'neurons': 33, 'optimizer': 'adam_amsgrad', 'l2': 0.04244443066475133, 'dropout': 0.25063745199695087}. Best is trial 17 with value: 0.6167109608650208.\u001b[0m\n",
      "\u001b[32m[I 2022-02-01 10:20:25,623]\u001b[0m Trial 179 finished with value: 0.6523696660995484 and parameters: {'activation': 'relu', 'batch_size': 64, 'n_layers': 3, 'learning_rate': 0.003618404378227939, 'neurons': 32, 'optimizer': 'adam_amsgrad', 'l2': 0.04411888412862105, 'dropout': 0.24762265860607152}. Best is trial 17 with value: 0.6167109608650208.\u001b[0m\n",
      "\u001b[32m[I 2022-02-01 10:20:47,305]\u001b[0m Trial 180 finished with value: 0.651690936088562 and parameters: {'activation': 'relu', 'batch_size': 64, 'n_layers': 3, 'learning_rate': 0.004118360157929612, 'neurons': 22, 'optimizer': 'adam_amsgrad', 'l2': 0.042339648568884225, 'dropout': 0.2538140659175782}. Best is trial 17 with value: 0.6167109608650208.\u001b[0m\n",
      "\u001b[32m[I 2022-02-01 10:21:06,147]\u001b[0m Trial 181 finished with value: 0.649356871843338 and parameters: {'activation': 'relu', 'batch_size': 64, 'n_layers': 3, 'learning_rate': 0.0038852874121680873, 'neurons': 32, 'optimizer': 'adam_amsgrad', 'l2': 0.04753400975081396, 'dropout': 0.24782245731521205}. Best is trial 17 with value: 0.6167109608650208.\u001b[0m\n",
      "\u001b[32m[I 2022-02-01 10:21:31,080]\u001b[0m Trial 182 finished with value: 0.6455447276433309 and parameters: {'activation': 'relu', 'batch_size': 64, 'n_layers': 3, 'learning_rate': 0.0034018652845667907, 'neurons': 27, 'optimizer': 'adam_amsgrad', 'l2': 0.05362079599447997, 'dropout': 0.2526971390642644}. Best is trial 17 with value: 0.6167109608650208.\u001b[0m\n",
      "\u001b[32m[I 2022-02-01 10:21:55,180]\u001b[0m Trial 183 finished with value: 0.6526692032814025 and parameters: {'activation': 'relu', 'batch_size': 64, 'n_layers': 3, 'learning_rate': 0.0036119915112825555, 'neurons': 34, 'optimizer': 'adam_amsgrad', 'l2': 0.04969850573421201, 'dropout': 0.24308396050002573}. Best is trial 17 with value: 0.6167109608650208.\u001b[0m\n",
      "\u001b[32m[I 2022-02-01 10:22:16,842]\u001b[0m Trial 184 finished with value: 0.6486892223358154 and parameters: {'activation': 'relu', 'batch_size': 64, 'n_layers': 3, 'learning_rate': 0.0034827124854099464, 'neurons': 32, 'optimizer': 'adam_amsgrad', 'l2': 0.051435934716066084, 'dropout': 0.27061907845510574}. Best is trial 17 with value: 0.6167109608650208.\u001b[0m\n",
      "\u001b[32m[I 2022-02-01 10:22:39,789]\u001b[0m Trial 185 finished with value: 0.6399552822113037 and parameters: {'activation': 'relu', 'batch_size': 64, 'n_layers': 3, 'learning_rate': 0.0037145532312230717, 'neurons': 37, 'optimizer': 'adam_amsgrad', 'l2': 0.04572744505260058, 'dropout': 0.25986661661482735}. Best is trial 17 with value: 0.6167109608650208.\u001b[0m\n",
      "\u001b[32m[I 2022-02-01 10:23:06,471]\u001b[0m Trial 186 finished with value: 0.6511328816413879 and parameters: {'activation': 'relu', 'batch_size': 64, 'n_layers': 3, 'learning_rate': 0.003991206174712708, 'neurons': 27, 'optimizer': 'adam_amsgrad', 'l2': 0.054315699706087614, 'dropout': 0.2397133631109895}. Best is trial 17 with value: 0.6167109608650208.\u001b[0m\n",
      "\u001b[32m[I 2022-02-01 10:23:31,083]\u001b[0m Trial 187 finished with value: 0.6248602867126465 and parameters: {'activation': 'relu', 'batch_size': 64, 'n_layers': 3, 'learning_rate': 0.004268486757267376, 'neurons': 30, 'optimizer': 'adam_amsgrad', 'l2': 0.04352743112442337, 'dropout': 0.25791600100362966}. Best is trial 17 with value: 0.6167109608650208.\u001b[0m\n",
      "\u001b[32m[I 2022-02-01 10:23:55,579]\u001b[0m Trial 188 finished with value: 0.6504881978034973 and parameters: {'activation': 'relu', 'batch_size': 64, 'n_layers': 3, 'learning_rate': 0.00438990569638951, 'neurons': 29, 'optimizer': 'adam_amsgrad', 'l2': 0.04029751154168252, 'dropout': 0.2642156326134868}. Best is trial 17 with value: 0.6167109608650208.\u001b[0m\n",
      "\u001b[32m[I 2022-02-01 10:24:18,391]\u001b[0m Trial 189 finished with value: 0.6297061443328857 and parameters: {'activation': 'relu', 'batch_size': 64, 'n_layers': 3, 'learning_rate': 0.00423782344790673, 'neurons': 30, 'optimizer': 'adam_amsgrad', 'l2': 0.03743949829830287, 'dropout': 0.2518400413908697}. Best is trial 17 with value: 0.6167109608650208.\u001b[0m\n",
      "\u001b[32m[I 2022-02-01 10:24:37,074]\u001b[0m Trial 190 finished with value: 0.6576614618301392 and parameters: {'activation': 'relu', 'batch_size': 64, 'n_layers': 3, 'learning_rate': 0.004211150101616145, 'neurons': 30, 'optimizer': 'adam_amsgrad', 'l2': 0.037348669263421154, 'dropout': 0.2507064432246957}. Best is trial 17 with value: 0.6167109608650208.\u001b[0m\n",
      "\u001b[32m[I 2022-02-01 10:24:54,526]\u001b[0m Trial 191 finished with value: 0.6311333775520325 and parameters: {'activation': 'relu', 'batch_size': 64, 'n_layers': 3, 'learning_rate': 0.003939228632758329, 'neurons': 24, 'optimizer': 'adam_amsgrad', 'l2': 0.04381001154785726, 'dropout': 0.2561265106178734}. Best is trial 17 with value: 0.6167109608650208.\u001b[0m\n",
      "\u001b[32m[I 2022-02-01 10:25:16,649]\u001b[0m Trial 192 finished with value: 0.6504990220069885 and parameters: {'activation': 'relu', 'batch_size': 64, 'n_layers': 3, 'learning_rate': 0.003812400132172048, 'neurons': 23, 'optimizer': 'adam_amsgrad', 'l2': 0.04226291971112495, 'dropout': 0.2581904376044677}. Best is trial 17 with value: 0.6167109608650208.\u001b[0m\n",
      "\u001b[32m[I 2022-02-01 10:25:42,138]\u001b[0m Trial 193 finished with value: 0.6325019299983978 and parameters: {'activation': 'relu', 'batch_size': 64, 'n_layers': 3, 'learning_rate': 0.004125686732941988, 'neurons': 25, 'optimizer': 'adam_amsgrad', 'l2': 0.03350295486055808, 'dropout': 0.24492211251993218}. Best is trial 17 with value: 0.6167109608650208.\u001b[0m\n",
      "\u001b[32m[I 2022-02-01 10:26:05,837]\u001b[0m Trial 194 finished with value: 0.638393223285675 and parameters: {'activation': 'relu', 'batch_size': 64, 'n_layers': 3, 'learning_rate': 0.004118165400271794, 'neurons': 19, 'optimizer': 'adam_amsgrad', 'l2': 0.031204637748036442, 'dropout': 0.24408114603618875}. Best is trial 17 with value: 0.6167109608650208.\u001b[0m\n",
      "\u001b[32m[I 2022-02-01 10:26:21,543]\u001b[0m Trial 195 finished with value: 0.6533833265304565 and parameters: {'activation': 'relu', 'batch_size': 64, 'n_layers': 3, 'learning_rate': 0.003950917963765456, 'neurons': 24, 'optimizer': 'adam_amsgrad', 'l2': 0.03579559992678187, 'dropout': 0.26903461944854196}. Best is trial 17 with value: 0.6167109608650208.\u001b[0m\n",
      "\u001b[32m[I 2022-02-01 10:26:42,140]\u001b[0m Trial 196 finished with value: 0.6354252099990845 and parameters: {'activation': 'relu', 'batch_size': 64, 'n_layers': 3, 'learning_rate': 0.004146131319026938, 'neurons': 35, 'optimizer': 'adam_amsgrad', 'l2': 0.03744748732457329, 'dropout': 0.2577523084368547}. Best is trial 17 with value: 0.6167109608650208.\u001b[0m\n",
      "\u001b[32m[I 2022-02-01 10:27:00,170]\u001b[0m Trial 197 finished with value: 0.6513436317443848 and parameters: {'activation': 'relu', 'batch_size': 64, 'n_layers': 3, 'learning_rate': 0.004274385021869965, 'neurons': 36, 'optimizer': 'adam_amsgrad', 'l2': 0.031508855024480184, 'dropout': 0.2566669104709106}. Best is trial 17 with value: 0.6167109608650208.\u001b[0m\n",
      "\u001b[32m[I 2022-02-01 10:27:15,749]\u001b[0m Trial 198 finished with value: 0.6529337465763092 and parameters: {'activation': 'relu', 'batch_size': 64, 'n_layers': 3, 'learning_rate': 0.004112915839730121, 'neurons': 25, 'optimizer': 'adam_amsgrad', 'l2': 0.03483338694812093, 'dropout': 0.2748832734366367}. Best is trial 17 with value: 0.6167109608650208.\u001b[0m\n",
      "\u001b[32m[I 2022-02-01 10:27:30,251]\u001b[0m Trial 199 finished with value: 0.6294482350349426 and parameters: {'activation': 'tanh', 'batch_size': 64, 'n_layers': 3, 'learning_rate': 0.004278580783010972, 'neurons': 20, 'optimizer': 'adam_amsgrad', 'l2': 0.038214447396832656, 'dropout': 0.25078831055150913}. Best is trial 17 with value: 0.6167109608650208.\u001b[0m\n"
     ]
    }
   ],
   "source": [
    "sampler = optuna.samplers.TPESampler()\n",
    "study = optuna.create_study(study_name = config.name, \n",
    "                            storage = 'sqlite:///'+dir_res+config.name+'.db',\n",
    "                            sampler=sampler, \n",
    "                            direction='minimize', \n",
    "                            load_if_exists=True)\n",
    "\n",
    "\n",
    "study.optimize(lambda trial : objective_net(trial,\n",
    "                                            df_train,\n",
    "                                            df_mapper,\n",
    "                                            dir_res,\n",
    "                                            config), \n",
    "                                           n_trials=200)\n",
    "trial = study.best_trial\n",
    "outer_loop = pd.DataFrame([trial.params])\n",
    "outer_loop.to_csv(dir_res+'best_param.csv', sep = ';', index = False, header = True)\n",
    "df_results = study.trials_dataframe()\n",
    "df_results.to_csv(dir_res+'trials_dataframe.csv', sep = ';', header = True)\n",
    "\n",
    "fig = optuna.visualization.plot_optimization_history(study)\n",
    "fig.write_image(dir_res+\"optim_history.png\")\n",
    "fig2 = optuna.visualization.plot_slice(study)\n",
    "fig2.write_image(dir_res+\"parameters_history.png\")"
   ]
  },
  {
   "cell_type": "markdown",
   "metadata": {},
   "source": [
    "# Uncertainty Measure using DeepEnsemble"
   ]
  },
  {
   "cell_type": "markdown",
   "metadata": {},
   "source": [
    "We build the model using always the same hyperparameters that were selected by cross validaton. We sample with replacement data from the training set.  Then, the model is trained on this  bootstraped dataset. We repeat the sampling M times, obtaining M predictions per point of the test set. This is the method called [Bootstrap](https://www.jstor.org/stable/2958830)."
   ]
  },
  {
   "cell_type": "markdown",
   "metadata": {},
   "source": [
    "We load the hyperparameters selected previously."
   ]
  },
  {
   "cell_type": "code",
   "execution_count": 10,
   "metadata": {},
   "outputs": [],
   "source": [
    "outer_loop = pd.read_csv(dir_res+'best_param.csv', sep = ';')\n",
    "config.acti_func = outer_loop['activation'][0]\n",
    "config.batch_size = outer_loop['batch_size'][0]\n",
    "config.dr = outer_loop['dropout'][0]\n",
    "config.layers = outer_loop['n_layers'][0]\n",
    "config.lr  = outer_loop['learning_rate'][0]\n",
    "config.neurons = outer_loop['neurons'][0]\n",
    "config.optim = outer_loop['optimizer'][0]\n",
    "config.pen_l2 = outer_loop['l2'][0]\n",
    "\n",
    "if config.name==\"DeepHit\":\n",
    "    config.alpha = outer_loop['alpha'][0] \n",
    "    config.sigma = outer_loop['sigma'][0]\n",
    "    config.num_durations = outer_loop['num_durations'][0]\n",
    "    labtrans = DeepHitSingle.label_transform(config.num_durations)\n",
    "elif config.name==\"CoxTime\":\n",
    "    labtrans = CoxTime.label_transform()\n",
    "else:\n",
    "    labtrans=\"\""
   ]
  },
  {
   "cell_type": "markdown",
   "metadata": {},
   "source": [
    "If the timepoints are defined as percentiles, the results are outputed at the percentiles of survival times of the simulation data. If the timepoints are deifned as fixed, teh results are outputed at the same specific times for all the simulation datasets.\n",
    "\n",
    "For the breast cancer dataset, the fixed timepoints used are at 5 and 10 years. For the LungCancerExplorer, we output the measures at 2 and 5 years. "
   ]
  },
  {
   "cell_type": "code",
   "execution_count": 11,
   "metadata": {},
   "outputs": [],
   "source": [
    "if config.timepoints == \"percentiles\":\n",
    "    kmf = KaplanMeierFitter()\n",
    "    kmf.fit(np.array(df_train['yy']), np.array(df_train['status']))\n",
    "    time_grid = np.array(kmf.percentile(np.linspace(0.9, 0.1, 9)).iloc[:,0])\n",
    "elif config.timepoints == \"fixed\":\n",
    "    if config.dataset == \"Metabric\":\n",
    "        time_grid = [2,5]\n",
    "    elif config.dataset == \"LungCancerExplorer\":\n",
    "        time_grid = [24,60]\n",
    "    else:\n",
    "        time_grid = [0.5,1,2,3]"
   ]
  },
  {
   "cell_type": "markdown",
   "metadata": {},
   "source": [
    "We define the number of M we sample with replacement the training set."
   ]
  },
  {
   "cell_type": "code",
   "execution_count": 12,
   "metadata": {},
   "outputs": [],
   "source": [
    "M=100"
   ]
  },
  {
   "cell_type": "markdown",
   "metadata": {},
   "source": [
    "We compute the Concordance Index (CAll), the Brier Score (BSAll) and the survival predictions for all the patients of the test set (PredAll) for each timepoint of the time grid previously defined."
   ]
  },
  {
   "cell_type": "code",
   "execution_count": 13,
   "metadata": {},
   "outputs": [
    {
     "name": "stdout",
     "output_type": "stream",
     "text": [
      "0\n",
      "1\n",
      "2\n",
      "3\n",
      "4\n",
      "5\n",
      "6\n",
      "7\n",
      "8\n",
      "9\n",
      "10\n",
      "11\n"
     ]
    },
    {
     "name": "stderr",
     "output_type": "stream",
     "text": [
      "C:\\Users\\E_ROBLIN\\Anaconda3\\lib\\site-packages\\pycox\\models\\cox.py:257: RuntimeWarning:\n",
      "\n",
      "overflow encountered in exp\n",
      "\n"
     ]
    },
    {
     "name": "stdout",
     "output_type": "stream",
     "text": [
      "12\n",
      "13\n"
     ]
    },
    {
     "name": "stderr",
     "output_type": "stream",
     "text": [
      "C:\\Users\\E_ROBLIN\\Anaconda3\\lib\\site-packages\\pycox\\models\\cox.py:257: RuntimeWarning:\n",
      "\n",
      "overflow encountered in exp\n",
      "\n"
     ]
    },
    {
     "name": "stdout",
     "output_type": "stream",
     "text": [
      "14\n"
     ]
    },
    {
     "name": "stderr",
     "output_type": "stream",
     "text": [
      "C:\\Users\\E_ROBLIN\\Anaconda3\\lib\\site-packages\\pycox\\models\\cox.py:257: RuntimeWarning:\n",
      "\n",
      "overflow encountered in exp\n",
      "\n"
     ]
    },
    {
     "name": "stdout",
     "output_type": "stream",
     "text": [
      "15\n",
      "16\n"
     ]
    },
    {
     "name": "stderr",
     "output_type": "stream",
     "text": [
      "C:\\Users\\E_ROBLIN\\Anaconda3\\lib\\site-packages\\pycox\\models\\cox.py:257: RuntimeWarning:\n",
      "\n",
      "overflow encountered in exp\n",
      "\n"
     ]
    },
    {
     "name": "stdout",
     "output_type": "stream",
     "text": [
      "17\n",
      "18\n",
      "19\n"
     ]
    },
    {
     "name": "stderr",
     "output_type": "stream",
     "text": [
      "C:\\Users\\E_ROBLIN\\Anaconda3\\lib\\site-packages\\pycox\\models\\cox.py:257: RuntimeWarning:\n",
      "\n",
      "overflow encountered in exp\n",
      "\n"
     ]
    },
    {
     "name": "stdout",
     "output_type": "stream",
     "text": [
      "20\n"
     ]
    },
    {
     "name": "stderr",
     "output_type": "stream",
     "text": [
      "C:\\Users\\E_ROBLIN\\Anaconda3\\lib\\site-packages\\pycox\\models\\cox.py:257: RuntimeWarning:\n",
      "\n",
      "overflow encountered in exp\n",
      "\n"
     ]
    },
    {
     "name": "stdout",
     "output_type": "stream",
     "text": [
      "21\n"
     ]
    },
    {
     "name": "stderr",
     "output_type": "stream",
     "text": [
      "C:\\Users\\E_ROBLIN\\Anaconda3\\lib\\site-packages\\pycox\\models\\cox.py:257: RuntimeWarning:\n",
      "\n",
      "overflow encountered in exp\n",
      "\n"
     ]
    },
    {
     "name": "stdout",
     "output_type": "stream",
     "text": [
      "22\n",
      "23\n",
      "24\n",
      "25\n",
      "26\n",
      "27\n"
     ]
    },
    {
     "name": "stderr",
     "output_type": "stream",
     "text": [
      "C:\\Users\\E_ROBLIN\\Anaconda3\\lib\\site-packages\\pycox\\models\\cox.py:257: RuntimeWarning:\n",
      "\n",
      "overflow encountered in exp\n",
      "\n"
     ]
    },
    {
     "name": "stdout",
     "output_type": "stream",
     "text": [
      "28\n",
      "29\n"
     ]
    },
    {
     "name": "stderr",
     "output_type": "stream",
     "text": [
      "C:\\Users\\E_ROBLIN\\Anaconda3\\lib\\site-packages\\pycox\\models\\cox.py:257: RuntimeWarning:\n",
      "\n",
      "overflow encountered in exp\n",
      "\n"
     ]
    },
    {
     "name": "stdout",
     "output_type": "stream",
     "text": [
      "30\n",
      "31\n"
     ]
    },
    {
     "name": "stderr",
     "output_type": "stream",
     "text": [
      "C:\\Users\\E_ROBLIN\\Anaconda3\\lib\\site-packages\\pycox\\models\\cox.py:257: RuntimeWarning:\n",
      "\n",
      "overflow encountered in exp\n",
      "\n"
     ]
    },
    {
     "name": "stdout",
     "output_type": "stream",
     "text": [
      "32\n"
     ]
    },
    {
     "name": "stderr",
     "output_type": "stream",
     "text": [
      "C:\\Users\\E_ROBLIN\\Anaconda3\\lib\\site-packages\\pycox\\models\\cox.py:257: RuntimeWarning:\n",
      "\n",
      "overflow encountered in exp\n",
      "\n"
     ]
    },
    {
     "name": "stdout",
     "output_type": "stream",
     "text": [
      "33\n",
      "34\n",
      "35\n",
      "36\n",
      "37\n"
     ]
    },
    {
     "name": "stderr",
     "output_type": "stream",
     "text": [
      "C:\\Users\\E_ROBLIN\\Anaconda3\\lib\\site-packages\\pycox\\models\\cox.py:257: RuntimeWarning:\n",
      "\n",
      "overflow encountered in exp\n",
      "\n"
     ]
    },
    {
     "name": "stdout",
     "output_type": "stream",
     "text": [
      "38\n",
      "39\n",
      "40\n"
     ]
    },
    {
     "name": "stderr",
     "output_type": "stream",
     "text": [
      "C:\\Users\\E_ROBLIN\\Anaconda3\\lib\\site-packages\\pycox\\models\\cox.py:257: RuntimeWarning:\n",
      "\n",
      "overflow encountered in exp\n",
      "\n"
     ]
    },
    {
     "name": "stdout",
     "output_type": "stream",
     "text": [
      "41\n",
      "42\n",
      "43\n"
     ]
    },
    {
     "name": "stderr",
     "output_type": "stream",
     "text": [
      "C:\\Users\\E_ROBLIN\\Anaconda3\\lib\\site-packages\\pycox\\models\\cox.py:257: RuntimeWarning:\n",
      "\n",
      "overflow encountered in exp\n",
      "\n"
     ]
    },
    {
     "name": "stdout",
     "output_type": "stream",
     "text": [
      "44\n",
      "45\n",
      "46\n"
     ]
    },
    {
     "name": "stderr",
     "output_type": "stream",
     "text": [
      "C:\\Users\\E_ROBLIN\\Anaconda3\\lib\\site-packages\\pycox\\models\\cox.py:257: RuntimeWarning:\n",
      "\n",
      "overflow encountered in exp\n",
      "\n"
     ]
    },
    {
     "name": "stdout",
     "output_type": "stream",
     "text": [
      "47\n",
      "48\n",
      "49\n"
     ]
    },
    {
     "name": "stderr",
     "output_type": "stream",
     "text": [
      "C:\\Users\\E_ROBLIN\\Anaconda3\\lib\\site-packages\\pycox\\models\\cox.py:257: RuntimeWarning:\n",
      "\n",
      "overflow encountered in exp\n",
      "\n"
     ]
    },
    {
     "name": "stdout",
     "output_type": "stream",
     "text": [
      "50\n",
      "51\n",
      "52\n",
      "53\n",
      "54\n"
     ]
    },
    {
     "name": "stderr",
     "output_type": "stream",
     "text": [
      "C:\\Users\\E_ROBLIN\\Anaconda3\\lib\\site-packages\\pycox\\models\\cox.py:257: RuntimeWarning:\n",
      "\n",
      "overflow encountered in exp\n",
      "\n"
     ]
    },
    {
     "name": "stdout",
     "output_type": "stream",
     "text": [
      "55\n"
     ]
    },
    {
     "name": "stderr",
     "output_type": "stream",
     "text": [
      "C:\\Users\\E_ROBLIN\\Anaconda3\\lib\\site-packages\\pycox\\models\\cox.py:257: RuntimeWarning:\n",
      "\n",
      "overflow encountered in exp\n",
      "\n"
     ]
    },
    {
     "name": "stdout",
     "output_type": "stream",
     "text": [
      "56\n"
     ]
    },
    {
     "name": "stderr",
     "output_type": "stream",
     "text": [
      "C:\\Users\\E_ROBLIN\\Anaconda3\\lib\\site-packages\\pycox\\models\\cox.py:257: RuntimeWarning:\n",
      "\n",
      "overflow encountered in exp\n",
      "\n"
     ]
    },
    {
     "name": "stdout",
     "output_type": "stream",
     "text": [
      "57\n",
      "58\n"
     ]
    },
    {
     "name": "stderr",
     "output_type": "stream",
     "text": [
      "C:\\Users\\E_ROBLIN\\Anaconda3\\lib\\site-packages\\pycox\\models\\cox.py:257: RuntimeWarning:\n",
      "\n",
      "overflow encountered in exp\n",
      "\n"
     ]
    },
    {
     "name": "stdout",
     "output_type": "stream",
     "text": [
      "59\n",
      "60\n",
      "61\n"
     ]
    },
    {
     "name": "stderr",
     "output_type": "stream",
     "text": [
      "C:\\Users\\E_ROBLIN\\Anaconda3\\lib\\site-packages\\pycox\\models\\cox.py:257: RuntimeWarning:\n",
      "\n",
      "overflow encountered in exp\n",
      "\n"
     ]
    },
    {
     "name": "stdout",
     "output_type": "stream",
     "text": [
      "62\n"
     ]
    },
    {
     "name": "stderr",
     "output_type": "stream",
     "text": [
      "C:\\Users\\E_ROBLIN\\Anaconda3\\lib\\site-packages\\pycox\\models\\cox.py:257: RuntimeWarning:\n",
      "\n",
      "overflow encountered in exp\n",
      "\n"
     ]
    },
    {
     "name": "stdout",
     "output_type": "stream",
     "text": [
      "63\n"
     ]
    },
    {
     "name": "stderr",
     "output_type": "stream",
     "text": [
      "C:\\Users\\E_ROBLIN\\Anaconda3\\lib\\site-packages\\pycox\\models\\cox.py:257: RuntimeWarning:\n",
      "\n",
      "overflow encountered in exp\n",
      "\n"
     ]
    },
    {
     "name": "stdout",
     "output_type": "stream",
     "text": [
      "64\n",
      "65\n"
     ]
    },
    {
     "name": "stderr",
     "output_type": "stream",
     "text": [
      "C:\\Users\\E_ROBLIN\\Anaconda3\\lib\\site-packages\\pycox\\models\\cox.py:257: RuntimeWarning:\n",
      "\n",
      "overflow encountered in exp\n",
      "\n"
     ]
    },
    {
     "name": "stdout",
     "output_type": "stream",
     "text": [
      "66\n"
     ]
    },
    {
     "name": "stderr",
     "output_type": "stream",
     "text": [
      "C:\\Users\\E_ROBLIN\\Anaconda3\\lib\\site-packages\\pycox\\models\\cox.py:257: RuntimeWarning:\n",
      "\n",
      "overflow encountered in exp\n",
      "\n"
     ]
    },
    {
     "name": "stdout",
     "output_type": "stream",
     "text": [
      "67\n",
      "68\n",
      "69\n",
      "70\n"
     ]
    },
    {
     "name": "stderr",
     "output_type": "stream",
     "text": [
      "C:\\Users\\E_ROBLIN\\Anaconda3\\lib\\site-packages\\pycox\\models\\cox.py:257: RuntimeWarning:\n",
      "\n",
      "overflow encountered in exp\n",
      "\n"
     ]
    },
    {
     "name": "stdout",
     "output_type": "stream",
     "text": [
      "71\n"
     ]
    },
    {
     "name": "stderr",
     "output_type": "stream",
     "text": [
      "C:\\Users\\E_ROBLIN\\Anaconda3\\lib\\site-packages\\pycox\\models\\cox.py:257: RuntimeWarning:\n",
      "\n",
      "overflow encountered in exp\n",
      "\n"
     ]
    },
    {
     "name": "stdout",
     "output_type": "stream",
     "text": [
      "72\n",
      "73\n",
      "74\n",
      "75\n"
     ]
    },
    {
     "name": "stderr",
     "output_type": "stream",
     "text": [
      "C:\\Users\\E_ROBLIN\\Anaconda3\\lib\\site-packages\\pycox\\models\\cox.py:257: RuntimeWarning:\n",
      "\n",
      "overflow encountered in exp\n",
      "\n"
     ]
    },
    {
     "name": "stdout",
     "output_type": "stream",
     "text": [
      "76\n",
      "77\n"
     ]
    },
    {
     "name": "stderr",
     "output_type": "stream",
     "text": [
      "C:\\Users\\E_ROBLIN\\Anaconda3\\lib\\site-packages\\pycox\\models\\cox.py:257: RuntimeWarning:\n",
      "\n",
      "overflow encountered in exp\n",
      "\n"
     ]
    },
    {
     "name": "stdout",
     "output_type": "stream",
     "text": [
      "78\n"
     ]
    },
    {
     "name": "stderr",
     "output_type": "stream",
     "text": [
      "C:\\Users\\E_ROBLIN\\Anaconda3\\lib\\site-packages\\pycox\\models\\cox.py:257: RuntimeWarning:\n",
      "\n",
      "overflow encountered in exp\n",
      "\n"
     ]
    },
    {
     "name": "stdout",
     "output_type": "stream",
     "text": [
      "79\n"
     ]
    },
    {
     "name": "stderr",
     "output_type": "stream",
     "text": [
      "C:\\Users\\E_ROBLIN\\Anaconda3\\lib\\site-packages\\pycox\\models\\cox.py:257: RuntimeWarning:\n",
      "\n",
      "overflow encountered in exp\n",
      "\n"
     ]
    },
    {
     "name": "stdout",
     "output_type": "stream",
     "text": [
      "80\n",
      "81\n",
      "82\n"
     ]
    },
    {
     "name": "stderr",
     "output_type": "stream",
     "text": [
      "C:\\Users\\E_ROBLIN\\Anaconda3\\lib\\site-packages\\pycox\\models\\cox.py:257: RuntimeWarning:\n",
      "\n",
      "overflow encountered in exp\n",
      "\n"
     ]
    },
    {
     "name": "stdout",
     "output_type": "stream",
     "text": [
      "83\n",
      "84\n"
     ]
    },
    {
     "name": "stderr",
     "output_type": "stream",
     "text": [
      "C:\\Users\\E_ROBLIN\\Anaconda3\\lib\\site-packages\\pycox\\models\\cox.py:257: RuntimeWarning:\n",
      "\n",
      "overflow encountered in exp\n",
      "\n"
     ]
    },
    {
     "name": "stdout",
     "output_type": "stream",
     "text": [
      "85\n",
      "86\n",
      "87\n"
     ]
    },
    {
     "name": "stderr",
     "output_type": "stream",
     "text": [
      "C:\\Users\\E_ROBLIN\\Anaconda3\\lib\\site-packages\\pycox\\models\\cox.py:257: RuntimeWarning:\n",
      "\n",
      "overflow encountered in exp\n",
      "\n"
     ]
    },
    {
     "name": "stdout",
     "output_type": "stream",
     "text": [
      "88\n",
      "89\n"
     ]
    },
    {
     "name": "stderr",
     "output_type": "stream",
     "text": [
      "C:\\Users\\E_ROBLIN\\Anaconda3\\lib\\site-packages\\pycox\\models\\cox.py:257: RuntimeWarning:\n",
      "\n",
      "overflow encountered in exp\n",
      "\n"
     ]
    },
    {
     "name": "stdout",
     "output_type": "stream",
     "text": [
      "90\n",
      "91\n",
      "92\n",
      "93\n"
     ]
    },
    {
     "name": "stderr",
     "output_type": "stream",
     "text": [
      "C:\\Users\\E_ROBLIN\\Anaconda3\\lib\\site-packages\\pycox\\models\\cox.py:257: RuntimeWarning:\n",
      "\n",
      "overflow encountered in exp\n",
      "\n"
     ]
    },
    {
     "name": "stdout",
     "output_type": "stream",
     "text": [
      "94\n",
      "95\n"
     ]
    },
    {
     "name": "stderr",
     "output_type": "stream",
     "text": [
      "C:\\Users\\E_ROBLIN\\Anaconda3\\lib\\site-packages\\pycox\\models\\cox.py:257: RuntimeWarning:\n",
      "\n",
      "overflow encountered in exp\n",
      "\n"
     ]
    },
    {
     "name": "stdout",
     "output_type": "stream",
     "text": [
      "96\n",
      "97\n"
     ]
    },
    {
     "name": "stderr",
     "output_type": "stream",
     "text": [
      "C:\\Users\\E_ROBLIN\\Anaconda3\\lib\\site-packages\\pycox\\models\\cox.py:257: RuntimeWarning:\n",
      "\n",
      "overflow encountered in exp\n",
      "\n"
     ]
    },
    {
     "name": "stdout",
     "output_type": "stream",
     "text": [
      "98\n",
      "99\n"
     ]
    }
   ],
   "source": [
    "CAll = pd.DataFrame()\n",
    "BSAll = pd.DataFrame()\n",
    "PredAll = []\n",
    "measures = pd.DataFrame()\n",
    "\n",
    "for j in range(M):\n",
    "    print(j)\n",
    "    #Bootstrap of the train set and split into validation and train set\n",
    "    df_trainb = df_train.iloc[resample(df_train.index, replace=True, n_samples=len(df_train),random_state=j)]\n",
    "    df_valb = df_trainb.sample(frac=0.2, random_state = j)\n",
    "    df_trainb = df_trainb.drop(df_valb.index)\n",
    "\n",
    "    df_trainb = df_mapper.fit_transform(df_trainb)\n",
    "    df_valb = df_mapper.transform(df_valb).astype('float32')\n",
    "    df_test = df_mapper.transform(df_test).astype('float32')\n",
    "\n",
    "    x_train = np.array(df_trainb.drop(['yy','status','id'], axis=1)).astype('float32')\n",
    "    x_val = np.array(df_valb.drop(['yy','status','id'], axis=1)).astype('float32')\n",
    "    x_test = np.array(df_test.drop(['yy','status','id'], axis=1)).astype('float32')\n",
    "    y_train = (df_trainb['yy'].values, df_trainb['status'].values)\n",
    "    y_val = (df_valb['yy'].values, df_valb['status'].values)\n",
    "    y_test = (df_test['yy'].values, df_test['status'].values)\n",
    "\n",
    "    if labtrans !=\"\":\n",
    "        y_train = labtrans.fit_transform(*y_train)\n",
    "        y_val = labtrans.transform(*y_val)\n",
    "\n",
    "    val = tt.tuplefy(x_val, y_val)\n",
    "\n",
    "    in_features = x_train.shape[1]\n",
    "    model,callbacks = build_model_net(config,in_features,labtrans)\n",
    "\n",
    "    log = model.fit(x_train, \n",
    "                y_train, \n",
    "                int(config.batch_size),\n",
    "                epochs = 500, \n",
    "                callbacks = callbacks,\n",
    "                verbose = False,\n",
    "                val_data = val,\n",
    "                shuffle=True)\n",
    "    \n",
    "    #Output of the survival probabilities\n",
    "    if config.name in [\"CoxCC\",\"CoxTime\"]:\n",
    "        _ = model.compute_baseline_hazards()\n",
    "        surv = model.predict_surv_df(x_test)\n",
    "    elif config.name == \"DeepHit\":\n",
    "         surv = model.interpolate(10).predict_surv_df(x_test)\n",
    "\n",
    "    #Output of the evaluation measures on the test set at predifined time points\n",
    "    data_train = skSurv.from_arrays(event=df_train['status'], time=df_train['yy'])\n",
    "    data_test = skSurv.from_arrays(event=df_test['status'], time=df_test['yy'])\n",
    "    CAll[j] = [concordance_index_ipcw(data_train, data_test, np.array(-determine_surv_prob(surv,t)),t)[0] for t in time_grid]\n",
    "    BSAll[j] = [brier_score(data_train, data_test, np.array(-determine_surv_prob(surv,t)),t)[1][0] for t in time_grid]\n",
    "    Pred = np.asarray([determine_surv_prob(surv,t) for t in time_grid])\n",
    "    PredAll.append(Pred)\n",
    "    del model \n",
    "    del log"
   ]
  },
  {
   "cell_type": "code",
   "execution_count": 14,
   "metadata": {},
   "outputs": [],
   "source": [
    "measures['C'] = CAll.mean(axis=1)\n",
    "measures['BS'] = BSAll.mean(axis=1)\n",
    "measures['Time'] = time_grid\n",
    "measures.to_csv(dir_res+'measures_'+config.name+'.csv', sep = ';', header = True, index=True)"
   ]
  },
  {
   "cell_type": "code",
   "execution_count": 15,
   "metadata": {},
   "outputs": [
    {
     "data": {
      "text/html": [
       "<div>\n",
       "<style scoped>\n",
       "    .dataframe tbody tr th:only-of-type {\n",
       "        vertical-align: middle;\n",
       "    }\n",
       "\n",
       "    .dataframe tbody tr th {\n",
       "        vertical-align: top;\n",
       "    }\n",
       "\n",
       "    .dataframe thead th {\n",
       "        text-align: right;\n",
       "    }\n",
       "</style>\n",
       "<table border=\"1\" class=\"dataframe\">\n",
       "  <thead>\n",
       "    <tr style=\"text-align: right;\">\n",
       "      <th></th>\n",
       "      <th>C</th>\n",
       "      <th>BS</th>\n",
       "      <th>Time</th>\n",
       "    </tr>\n",
       "  </thead>\n",
       "  <tbody>\n",
       "    <tr>\n",
       "      <th>0</th>\n",
       "      <td>0.508227</td>\n",
       "      <td>2.773020</td>\n",
       "      <td>2</td>\n",
       "    </tr>\n",
       "    <tr>\n",
       "      <th>1</th>\n",
       "      <td>0.506352</td>\n",
       "      <td>2.382354</td>\n",
       "      <td>5</td>\n",
       "    </tr>\n",
       "  </tbody>\n",
       "</table>\n",
       "</div>"
      ],
      "text/plain": [
       "          C        BS  Time\n",
       "0  0.508227  2.773020     2\n",
       "1  0.506352  2.382354     5"
      ]
     },
     "execution_count": 15,
     "metadata": {},
     "output_type": "execute_result"
    }
   ],
   "source": [
    "measures"
   ]
  },
  {
   "cell_type": "markdown",
   "metadata": {},
   "source": [
    "We output survival prediction intervals for a certain number of patients (n_pat) for each timepoint of the timegrid."
   ]
  },
  {
   "cell_type": "code",
   "execution_count": 16,
   "metadata": {},
   "outputs": [],
   "source": [
    "n_pat = 3"
   ]
  },
  {
   "cell_type": "code",
   "execution_count": 17,
   "metadata": {},
   "outputs": [],
   "source": [
    "random.seed(4893)\n",
    "patients_test = random.sample(list(df_test['id']),n_pat)\n",
    "ResPat = []\n",
    "for t in range (len(time_grid)):\n",
    "    ResTime = pd.DataFrame([PredAll[l][t] for l in range(M)]).T\n",
    "    for i in patients_test:\n",
    "        ResTime.index = df_test['id']\n",
    "        ic = output_ic(ResTime.loc[i,:],0.95)\n",
    "        values = df_test.loc[:,['status','yy','id']][df_test['id']==i]\n",
    "        ResPat.append(values.values.tolist()[0]+list(ic))\n",
    "ResPat = pd.DataFrame(ResPat)\n",
    "ResPat.columns = ['status','yy','id','IClow','ICmean','IChigh']\n",
    "ResPat[\"Time\"] = np.repeat(time_grid,n_pat)\n",
    "ResPat.to_csv(dir_res+\"surv_intervals.csv\", sep=';', header = True,index=False)"
   ]
  },
  {
   "cell_type": "code",
   "execution_count": 18,
   "metadata": {},
   "outputs": [
    {
     "data": {
      "text/html": [
       "<div>\n",
       "<style scoped>\n",
       "    .dataframe tbody tr th:only-of-type {\n",
       "        vertical-align: middle;\n",
       "    }\n",
       "\n",
       "    .dataframe tbody tr th {\n",
       "        vertical-align: top;\n",
       "    }\n",
       "\n",
       "    .dataframe thead th {\n",
       "        text-align: right;\n",
       "    }\n",
       "</style>\n",
       "<table border=\"1\" class=\"dataframe\">\n",
       "  <thead>\n",
       "    <tr style=\"text-align: right;\">\n",
       "      <th></th>\n",
       "      <th>status</th>\n",
       "      <th>yy</th>\n",
       "      <th>id</th>\n",
       "      <th>IClow</th>\n",
       "      <th>ICmean</th>\n",
       "      <th>IChigh</th>\n",
       "      <th>Time</th>\n",
       "    </tr>\n",
       "  </thead>\n",
       "  <tbody>\n",
       "    <tr>\n",
       "      <th>0</th>\n",
       "      <td>1.0</td>\n",
       "      <td>2.059994</td>\n",
       "      <td>505.0</td>\n",
       "      <td>0.0</td>\n",
       "      <td>0.628</td>\n",
       "      <td>1.0</td>\n",
       "      <td>2</td>\n",
       "    </tr>\n",
       "    <tr>\n",
       "      <th>1</th>\n",
       "      <td>0.0</td>\n",
       "      <td>4.735164</td>\n",
       "      <td>327.0</td>\n",
       "      <td>0.0</td>\n",
       "      <td>0.630</td>\n",
       "      <td>1.0</td>\n",
       "      <td>2</td>\n",
       "    </tr>\n",
       "    <tr>\n",
       "      <th>2</th>\n",
       "      <td>0.0</td>\n",
       "      <td>12.670373</td>\n",
       "      <td>1432.0</td>\n",
       "      <td>0.0</td>\n",
       "      <td>0.620</td>\n",
       "      <td>1.0</td>\n",
       "      <td>2</td>\n",
       "    </tr>\n",
       "    <tr>\n",
       "      <th>3</th>\n",
       "      <td>1.0</td>\n",
       "      <td>2.059994</td>\n",
       "      <td>505.0</td>\n",
       "      <td>0.0</td>\n",
       "      <td>0.625</td>\n",
       "      <td>1.0</td>\n",
       "      <td>5</td>\n",
       "    </tr>\n",
       "    <tr>\n",
       "      <th>4</th>\n",
       "      <td>0.0</td>\n",
       "      <td>4.735164</td>\n",
       "      <td>327.0</td>\n",
       "      <td>0.0</td>\n",
       "      <td>0.630</td>\n",
       "      <td>1.0</td>\n",
       "      <td>5</td>\n",
       "    </tr>\n",
       "    <tr>\n",
       "      <th>5</th>\n",
       "      <td>0.0</td>\n",
       "      <td>12.670373</td>\n",
       "      <td>1432.0</td>\n",
       "      <td>0.0</td>\n",
       "      <td>0.618</td>\n",
       "      <td>1.0</td>\n",
       "      <td>5</td>\n",
       "    </tr>\n",
       "  </tbody>\n",
       "</table>\n",
       "</div>"
      ],
      "text/plain": [
       "   status         yy      id  IClow  ICmean  IChigh  Time\n",
       "0     1.0   2.059994   505.0    0.0   0.628     1.0     2\n",
       "1     0.0   4.735164   327.0    0.0   0.630     1.0     2\n",
       "2     0.0  12.670373  1432.0    0.0   0.620     1.0     2\n",
       "3     1.0   2.059994   505.0    0.0   0.625     1.0     5\n",
       "4     0.0   4.735164   327.0    0.0   0.630     1.0     5\n",
       "5     0.0  12.670373  1432.0    0.0   0.618     1.0     5"
      ]
     },
     "execution_count": 18,
     "metadata": {},
     "output_type": "execute_result"
    }
   ],
   "source": [
    "ResPat"
   ]
  }
 ],
 "metadata": {
  "kernelspec": {
   "display_name": "Python 3",
   "language": "python",
   "name": "python3"
  },
  "language_info": {
   "codemirror_mode": {
    "name": "ipython",
    "version": 3
   },
   "file_extension": ".py",
   "mimetype": "text/x-python",
   "name": "python",
   "nbconvert_exporter": "python",
   "pygments_lexer": "ipython3",
   "version": "3.8.8"
  }
 },
 "nbformat": 4,
 "nbformat_minor": 4
}
